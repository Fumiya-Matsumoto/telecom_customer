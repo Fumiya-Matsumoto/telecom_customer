{
 "cells": [
  {
   "cell_type": "code",
   "execution_count": 1,
   "metadata": {},
   "outputs": [],
   "source": [
    "import numpy as np\n",
    "import pandas as pd\n",
    "from pandas import DataFrame, Series\n",
    "import matplotlib.pyplot as plt\n",
    "import seaborn as sns\n",
    "from collections import Counter\n",
    "import warnings\n",
    "warnings.filterwarnings(\"ignore\") #Ignore certain system-wide alerts"
   ]
  },
  {
   "cell_type": "code",
   "execution_count": 2,
   "metadata": {},
   "outputs": [
    {
     "name": "stdout",
     "output_type": "stream",
     "text": [
      "データ数は100000、変数は100種類です\n"
     ]
    }
   ],
   "source": [
    "df = pd.read_csv('../data/input/Telecom_customer churn.csv')\n",
    "print('データ数は{}、変数は{}種類です'.format(df.shape[0], df.shape[1]))"
   ]
  },
  {
   "cell_type": "code",
   "execution_count": 3,
   "metadata": {},
   "outputs": [
    {
     "name": "stdout",
     "output_type": "stream",
     "text": [
      "<class 'pandas.core.frame.DataFrame'>\n",
      "RangeIndex: 100000 entries, 0 to 99999\n",
      "Data columns (total 100 columns):\n",
      " #   Column            Non-Null Count   Dtype  \n",
      "---  ------            --------------   -----  \n",
      " 0   rev_Mean          99643 non-null   float64\n",
      " 1   mou_Mean          99643 non-null   float64\n",
      " 2   totmrc_Mean       99643 non-null   float64\n",
      " 3   da_Mean           99643 non-null   float64\n",
      " 4   ovrmou_Mean       99643 non-null   float64\n",
      " 5   ovrrev_Mean       99643 non-null   float64\n",
      " 6   vceovr_Mean       99643 non-null   float64\n",
      " 7   datovr_Mean       99643 non-null   float64\n",
      " 8   roam_Mean         99643 non-null   float64\n",
      " 9   change_mou        99109 non-null   float64\n",
      " 10  change_rev        99109 non-null   float64\n",
      " 11  drop_vce_Mean     100000 non-null  float64\n",
      " 12  drop_dat_Mean     100000 non-null  float64\n",
      " 13  blck_vce_Mean     100000 non-null  float64\n",
      " 14  blck_dat_Mean     100000 non-null  float64\n",
      " 15  unan_vce_Mean     100000 non-null  float64\n",
      " 16  unan_dat_Mean     100000 non-null  float64\n",
      " 17  plcd_vce_Mean     100000 non-null  float64\n",
      " 18  plcd_dat_Mean     100000 non-null  float64\n",
      " 19  recv_vce_Mean     100000 non-null  float64\n",
      " 20  recv_sms_Mean     100000 non-null  float64\n",
      " 21  comp_vce_Mean     100000 non-null  float64\n",
      " 22  comp_dat_Mean     100000 non-null  float64\n",
      " 23  custcare_Mean     100000 non-null  float64\n",
      " 24  ccrndmou_Mean     100000 non-null  float64\n",
      " 25  cc_mou_Mean       100000 non-null  float64\n",
      " 26  inonemin_Mean     100000 non-null  float64\n",
      " 27  threeway_Mean     100000 non-null  float64\n",
      " 28  mou_cvce_Mean     100000 non-null  float64\n",
      " 29  mou_cdat_Mean     100000 non-null  float64\n",
      " 30  mou_rvce_Mean     100000 non-null  float64\n",
      " 31  owylis_vce_Mean   100000 non-null  float64\n",
      " 32  mouowylisv_Mean   100000 non-null  float64\n",
      " 33  iwylis_vce_Mean   100000 non-null  float64\n",
      " 34  mouiwylisv_Mean   100000 non-null  float64\n",
      " 35  peak_vce_Mean     100000 non-null  float64\n",
      " 36  peak_dat_Mean     100000 non-null  float64\n",
      " 37  mou_peav_Mean     100000 non-null  float64\n",
      " 38  mou_pead_Mean     100000 non-null  float64\n",
      " 39  opk_vce_Mean      100000 non-null  float64\n",
      " 40  opk_dat_Mean      100000 non-null  float64\n",
      " 41  mou_opkv_Mean     100000 non-null  float64\n",
      " 42  mou_opkd_Mean     100000 non-null  float64\n",
      " 43  drop_blk_Mean     100000 non-null  float64\n",
      " 44  attempt_Mean      100000 non-null  float64\n",
      " 45  complete_Mean     100000 non-null  float64\n",
      " 46  callfwdv_Mean     100000 non-null  float64\n",
      " 47  callwait_Mean     100000 non-null  float64\n",
      " 48  churn             100000 non-null  int64  \n",
      " 49  months            100000 non-null  int64  \n",
      " 50  uniqsubs          100000 non-null  int64  \n",
      " 51  actvsubs          100000 non-null  int64  \n",
      " 52  new_cell          100000 non-null  object \n",
      " 53  crclscod          100000 non-null  object \n",
      " 54  asl_flag          100000 non-null  object \n",
      " 55  totcalls          100000 non-null  int64  \n",
      " 56  totmou            100000 non-null  float64\n",
      " 57  totrev            100000 non-null  float64\n",
      " 58  adjrev            100000 non-null  float64\n",
      " 59  adjmou            100000 non-null  float64\n",
      " 60  adjqty            100000 non-null  int64  \n",
      " 61  avgrev            100000 non-null  float64\n",
      " 62  avgmou            100000 non-null  float64\n",
      " 63  avgqty            100000 non-null  float64\n",
      " 64  avg3mou           100000 non-null  int64  \n",
      " 65  avg3qty           100000 non-null  int64  \n",
      " 66  avg3rev           100000 non-null  int64  \n",
      " 67  avg6mou           97161 non-null   float64\n",
      " 68  avg6qty           97161 non-null   float64\n",
      " 69  avg6rev           97161 non-null   float64\n",
      " 70  prizm_social_one  92612 non-null   object \n",
      " 71  area              99960 non-null   object \n",
      " 72  dualband          99999 non-null   object \n",
      " 73  refurb_new        99999 non-null   object \n",
      " 74  hnd_price         99153 non-null   float64\n",
      " 75  phones            99999 non-null   float64\n",
      " 76  models            99999 non-null   float64\n",
      " 77  hnd_webcap        89811 non-null   object \n",
      " 78  truck             98268 non-null   float64\n",
      " 79  rv                98268 non-null   float64\n",
      " 80  ownrent           66294 non-null   object \n",
      " 81  lor               69810 non-null   float64\n",
      " 82  dwlltype          68091 non-null   object \n",
      " 83  marital           98268 non-null   object \n",
      " 84  adults            76981 non-null   float64\n",
      " 85  infobase          77921 non-null   object \n",
      " 86  income            74564 non-null   float64\n",
      " 87  numbcars          50634 non-null   float64\n",
      " 88  HHstatin          62077 non-null   object \n",
      " 89  dwllsize          61692 non-null   object \n",
      " 90  forgntvl          98268 non-null   float64\n",
      " 91  ethnic            98268 non-null   object \n",
      " 92  kid0_2            98268 non-null   object \n",
      " 93  kid3_5            98268 non-null   object \n",
      " 94  kid6_10           98268 non-null   object \n",
      " 95  kid11_15          98268 non-null   object \n",
      " 96  kid16_17          98268 non-null   object \n",
      " 97  creditcd          98268 non-null   object \n",
      " 98  eqpdays           99999 non-null   float64\n",
      " 99  Customer_ID       100000 non-null  int64  \n",
      "dtypes: float64(69), int64(10), object(21)\n",
      "memory usage: 76.3+ MB\n"
     ]
    }
   ],
   "source": [
    "df.info()"
   ]
  },
  {
   "cell_type": "code",
   "execution_count": 4,
   "metadata": {},
   "outputs": [
    {
     "data": {
      "text/html": [
       "<div>\n",
       "<style scoped>\n",
       "    .dataframe tbody tr th:only-of-type {\n",
       "        vertical-align: middle;\n",
       "    }\n",
       "\n",
       "    .dataframe tbody tr th {\n",
       "        vertical-align: top;\n",
       "    }\n",
       "\n",
       "    .dataframe thead th {\n",
       "        text-align: right;\n",
       "    }\n",
       "</style>\n",
       "<table border=\"1\" class=\"dataframe\">\n",
       "  <thead>\n",
       "    <tr style=\"text-align: right;\">\n",
       "      <th></th>\n",
       "      <th>rev_Mean</th>\n",
       "      <th>mou_Mean</th>\n",
       "      <th>totmrc_Mean</th>\n",
       "      <th>da_Mean</th>\n",
       "      <th>ovrmou_Mean</th>\n",
       "      <th>ovrrev_Mean</th>\n",
       "      <th>vceovr_Mean</th>\n",
       "      <th>datovr_Mean</th>\n",
       "      <th>roam_Mean</th>\n",
       "      <th>change_mou</th>\n",
       "      <th>...</th>\n",
       "      <th>forgntvl</th>\n",
       "      <th>ethnic</th>\n",
       "      <th>kid0_2</th>\n",
       "      <th>kid3_5</th>\n",
       "      <th>kid6_10</th>\n",
       "      <th>kid11_15</th>\n",
       "      <th>kid16_17</th>\n",
       "      <th>creditcd</th>\n",
       "      <th>eqpdays</th>\n",
       "      <th>Customer_ID</th>\n",
       "    </tr>\n",
       "  </thead>\n",
       "  <tbody>\n",
       "    <tr>\n",
       "      <th>0</th>\n",
       "      <td>23.9975</td>\n",
       "      <td>219.25</td>\n",
       "      <td>22.500</td>\n",
       "      <td>0.2475</td>\n",
       "      <td>0.00</td>\n",
       "      <td>0.00</td>\n",
       "      <td>0.00</td>\n",
       "      <td>0.0</td>\n",
       "      <td>0.0</td>\n",
       "      <td>-157.25</td>\n",
       "      <td>...</td>\n",
       "      <td>0.0</td>\n",
       "      <td>N</td>\n",
       "      <td>U</td>\n",
       "      <td>U</td>\n",
       "      <td>U</td>\n",
       "      <td>U</td>\n",
       "      <td>U</td>\n",
       "      <td>Y</td>\n",
       "      <td>361.0</td>\n",
       "      <td>1000001</td>\n",
       "    </tr>\n",
       "    <tr>\n",
       "      <th>1</th>\n",
       "      <td>57.4925</td>\n",
       "      <td>482.75</td>\n",
       "      <td>37.425</td>\n",
       "      <td>0.2475</td>\n",
       "      <td>22.75</td>\n",
       "      <td>9.10</td>\n",
       "      <td>9.10</td>\n",
       "      <td>0.0</td>\n",
       "      <td>0.0</td>\n",
       "      <td>532.25</td>\n",
       "      <td>...</td>\n",
       "      <td>0.0</td>\n",
       "      <td>Z</td>\n",
       "      <td>U</td>\n",
       "      <td>U</td>\n",
       "      <td>U</td>\n",
       "      <td>U</td>\n",
       "      <td>U</td>\n",
       "      <td>Y</td>\n",
       "      <td>240.0</td>\n",
       "      <td>1000002</td>\n",
       "    </tr>\n",
       "    <tr>\n",
       "      <th>2</th>\n",
       "      <td>16.9900</td>\n",
       "      <td>10.25</td>\n",
       "      <td>16.990</td>\n",
       "      <td>0.0000</td>\n",
       "      <td>0.00</td>\n",
       "      <td>0.00</td>\n",
       "      <td>0.00</td>\n",
       "      <td>0.0</td>\n",
       "      <td>0.0</td>\n",
       "      <td>-4.25</td>\n",
       "      <td>...</td>\n",
       "      <td>0.0</td>\n",
       "      <td>N</td>\n",
       "      <td>U</td>\n",
       "      <td>Y</td>\n",
       "      <td>U</td>\n",
       "      <td>U</td>\n",
       "      <td>U</td>\n",
       "      <td>Y</td>\n",
       "      <td>1504.0</td>\n",
       "      <td>1000003</td>\n",
       "    </tr>\n",
       "    <tr>\n",
       "      <th>3</th>\n",
       "      <td>38.0000</td>\n",
       "      <td>7.50</td>\n",
       "      <td>38.000</td>\n",
       "      <td>0.0000</td>\n",
       "      <td>0.00</td>\n",
       "      <td>0.00</td>\n",
       "      <td>0.00</td>\n",
       "      <td>0.0</td>\n",
       "      <td>0.0</td>\n",
       "      <td>-1.50</td>\n",
       "      <td>...</td>\n",
       "      <td>0.0</td>\n",
       "      <td>U</td>\n",
       "      <td>Y</td>\n",
       "      <td>U</td>\n",
       "      <td>U</td>\n",
       "      <td>U</td>\n",
       "      <td>U</td>\n",
       "      <td>Y</td>\n",
       "      <td>1812.0</td>\n",
       "      <td>1000004</td>\n",
       "    </tr>\n",
       "    <tr>\n",
       "      <th>4</th>\n",
       "      <td>55.2300</td>\n",
       "      <td>570.50</td>\n",
       "      <td>71.980</td>\n",
       "      <td>0.0000</td>\n",
       "      <td>0.00</td>\n",
       "      <td>0.00</td>\n",
       "      <td>0.00</td>\n",
       "      <td>0.0</td>\n",
       "      <td>0.0</td>\n",
       "      <td>38.50</td>\n",
       "      <td>...</td>\n",
       "      <td>0.0</td>\n",
       "      <td>I</td>\n",
       "      <td>U</td>\n",
       "      <td>U</td>\n",
       "      <td>U</td>\n",
       "      <td>U</td>\n",
       "      <td>U</td>\n",
       "      <td>Y</td>\n",
       "      <td>434.0</td>\n",
       "      <td>1000005</td>\n",
       "    </tr>\n",
       "    <tr>\n",
       "      <th>5</th>\n",
       "      <td>82.2750</td>\n",
       "      <td>1312.25</td>\n",
       "      <td>75.000</td>\n",
       "      <td>1.2375</td>\n",
       "      <td>0.00</td>\n",
       "      <td>0.00</td>\n",
       "      <td>0.00</td>\n",
       "      <td>0.0</td>\n",
       "      <td>0.0</td>\n",
       "      <td>156.75</td>\n",
       "      <td>...</td>\n",
       "      <td>0.0</td>\n",
       "      <td>U</td>\n",
       "      <td>U</td>\n",
       "      <td>U</td>\n",
       "      <td>U</td>\n",
       "      <td>U</td>\n",
       "      <td>U</td>\n",
       "      <td>Y</td>\n",
       "      <td>458.0</td>\n",
       "      <td>1000006</td>\n",
       "    </tr>\n",
       "    <tr>\n",
       "      <th>6</th>\n",
       "      <td>17.1450</td>\n",
       "      <td>0.00</td>\n",
       "      <td>16.990</td>\n",
       "      <td>0.0000</td>\n",
       "      <td>0.00</td>\n",
       "      <td>0.00</td>\n",
       "      <td>0.00</td>\n",
       "      <td>0.0</td>\n",
       "      <td>0.0</td>\n",
       "      <td>0.00</td>\n",
       "      <td>...</td>\n",
       "      <td>0.0</td>\n",
       "      <td>N</td>\n",
       "      <td>U</td>\n",
       "      <td>U</td>\n",
       "      <td>U</td>\n",
       "      <td>U</td>\n",
       "      <td>U</td>\n",
       "      <td>Y</td>\n",
       "      <td>852.0</td>\n",
       "      <td>1000007</td>\n",
       "    </tr>\n",
       "    <tr>\n",
       "      <th>7</th>\n",
       "      <td>38.0525</td>\n",
       "      <td>682.50</td>\n",
       "      <td>52.490</td>\n",
       "      <td>0.2475</td>\n",
       "      <td>0.00</td>\n",
       "      <td>0.00</td>\n",
       "      <td>0.00</td>\n",
       "      <td>0.0</td>\n",
       "      <td>0.0</td>\n",
       "      <td>147.50</td>\n",
       "      <td>...</td>\n",
       "      <td>1.0</td>\n",
       "      <td>S</td>\n",
       "      <td>U</td>\n",
       "      <td>U</td>\n",
       "      <td>U</td>\n",
       "      <td>U</td>\n",
       "      <td>U</td>\n",
       "      <td>Y</td>\n",
       "      <td>231.0</td>\n",
       "      <td>1000008</td>\n",
       "    </tr>\n",
       "    <tr>\n",
       "      <th>8</th>\n",
       "      <td>97.3375</td>\n",
       "      <td>1039.00</td>\n",
       "      <td>50.000</td>\n",
       "      <td>4.9500</td>\n",
       "      <td>419.50</td>\n",
       "      <td>41.95</td>\n",
       "      <td>41.95</td>\n",
       "      <td>0.0</td>\n",
       "      <td>0.0</td>\n",
       "      <td>198.00</td>\n",
       "      <td>...</td>\n",
       "      <td>0.0</td>\n",
       "      <td>F</td>\n",
       "      <td>U</td>\n",
       "      <td>U</td>\n",
       "      <td>U</td>\n",
       "      <td>U</td>\n",
       "      <td>U</td>\n",
       "      <td>N</td>\n",
       "      <td>700.0</td>\n",
       "      <td>1000009</td>\n",
       "    </tr>\n",
       "    <tr>\n",
       "      <th>9</th>\n",
       "      <td>31.6625</td>\n",
       "      <td>25.50</td>\n",
       "      <td>29.990</td>\n",
       "      <td>0.2475</td>\n",
       "      <td>0.00</td>\n",
       "      <td>0.00</td>\n",
       "      <td>0.00</td>\n",
       "      <td>0.0</td>\n",
       "      <td>0.0</td>\n",
       "      <td>59.50</td>\n",
       "      <td>...</td>\n",
       "      <td>1.0</td>\n",
       "      <td>N</td>\n",
       "      <td>U</td>\n",
       "      <td>U</td>\n",
       "      <td>U</td>\n",
       "      <td>U</td>\n",
       "      <td>U</td>\n",
       "      <td>Y</td>\n",
       "      <td>601.0</td>\n",
       "      <td>1000010</td>\n",
       "    </tr>\n",
       "  </tbody>\n",
       "</table>\n",
       "<p>10 rows × 100 columns</p>\n",
       "</div>"
      ],
      "text/plain": [
       "   rev_Mean  mou_Mean  totmrc_Mean  da_Mean  ovrmou_Mean  ovrrev_Mean  \\\n",
       "0   23.9975    219.25       22.500   0.2475         0.00         0.00   \n",
       "1   57.4925    482.75       37.425   0.2475        22.75         9.10   \n",
       "2   16.9900     10.25       16.990   0.0000         0.00         0.00   \n",
       "3   38.0000      7.50       38.000   0.0000         0.00         0.00   \n",
       "4   55.2300    570.50       71.980   0.0000         0.00         0.00   \n",
       "5   82.2750   1312.25       75.000   1.2375         0.00         0.00   \n",
       "6   17.1450      0.00       16.990   0.0000         0.00         0.00   \n",
       "7   38.0525    682.50       52.490   0.2475         0.00         0.00   \n",
       "8   97.3375   1039.00       50.000   4.9500       419.50        41.95   \n",
       "9   31.6625     25.50       29.990   0.2475         0.00         0.00   \n",
       "\n",
       "   vceovr_Mean  datovr_Mean  roam_Mean  change_mou  ...  forgntvl  ethnic  \\\n",
       "0         0.00          0.0        0.0     -157.25  ...       0.0       N   \n",
       "1         9.10          0.0        0.0      532.25  ...       0.0       Z   \n",
       "2         0.00          0.0        0.0       -4.25  ...       0.0       N   \n",
       "3         0.00          0.0        0.0       -1.50  ...       0.0       U   \n",
       "4         0.00          0.0        0.0       38.50  ...       0.0       I   \n",
       "5         0.00          0.0        0.0      156.75  ...       0.0       U   \n",
       "6         0.00          0.0        0.0        0.00  ...       0.0       N   \n",
       "7         0.00          0.0        0.0      147.50  ...       1.0       S   \n",
       "8        41.95          0.0        0.0      198.00  ...       0.0       F   \n",
       "9         0.00          0.0        0.0       59.50  ...       1.0       N   \n",
       "\n",
       "   kid0_2  kid3_5  kid6_10  kid11_15  kid16_17  creditcd  eqpdays  Customer_ID  \n",
       "0       U       U        U         U         U         Y    361.0      1000001  \n",
       "1       U       U        U         U         U         Y    240.0      1000002  \n",
       "2       U       Y        U         U         U         Y   1504.0      1000003  \n",
       "3       Y       U        U         U         U         Y   1812.0      1000004  \n",
       "4       U       U        U         U         U         Y    434.0      1000005  \n",
       "5       U       U        U         U         U         Y    458.0      1000006  \n",
       "6       U       U        U         U         U         Y    852.0      1000007  \n",
       "7       U       U        U         U         U         Y    231.0      1000008  \n",
       "8       U       U        U         U         U         N    700.0      1000009  \n",
       "9       U       U        U         U         U         Y    601.0      1000010  \n",
       "\n",
       "[10 rows x 100 columns]"
      ]
     },
     "execution_count": 4,
     "metadata": {},
     "output_type": "execute_result"
    }
   ],
   "source": [
    "df.head(10)"
   ]
  },
  {
   "cell_type": "markdown",
   "metadata": {},
   "source": [
    "### カテゴリカル変数の可視化"
   ]
  },
  {
   "cell_type": "code",
   "execution_count": 74,
   "metadata": {},
   "outputs": [
    {
     "data": {
      "image/png": "[encoded data removed]",
      "text/plain": [
       "<Figure size 1296x4032 with 21 Axes>"
      ]
     },
     "metadata": {
      "needs_background": "light"
     },
     "output_type": "display_data"
    }
   ],
   "source": [
    "obj_col = df.columns[df.dtypes.values == \"object\"]\n",
    "f,ax=plt.subplots(7,3,figsize=(18,56))\n",
    "for i in range(21):\n",
    "  nrow = i//3\n",
    "  ncol = i%3\n",
    "  sns.countplot(obj_col[i], data=df, ax=ax[nrow, ncol])\n",
    "  ax[nrow, ncol].set_title(obj_col[i])\n",
    "plt.show()"
   ]
  },
  {
   "cell_type": "markdown",
   "metadata": {},
   "source": [
    "### 欠損値の確認"
   ]
  },
  {
   "cell_type": "code",
   "execution_count": 137,
   "metadata": {},
   "outputs": [
    {
     "data": {
      "text/html": [
       "<div>\n",
       "<style scoped>\n",
       "    .dataframe tbody tr th:only-of-type {\n",
       "        vertical-align: middle;\n",
       "    }\n",
       "\n",
       "    .dataframe tbody tr th {\n",
       "        vertical-align: top;\n",
       "    }\n",
       "\n",
       "    .dataframe thead th {\n",
       "        text-align: right;\n",
       "    }\n",
       "</style>\n",
       "<table border=\"1\" class=\"dataframe\">\n",
       "  <thead>\n",
       "    <tr style=\"text-align: right;\">\n",
       "      <th></th>\n",
       "      <th>No. missing values</th>\n",
       "      <th>% of missing data</th>\n",
       "    </tr>\n",
       "  </thead>\n",
       "  <tbody>\n",
       "    <tr>\n",
       "      <th>numbcars</th>\n",
       "      <td>49366</td>\n",
       "      <td>49.366</td>\n",
       "    </tr>\n",
       "    <tr>\n",
       "      <th>dwllsize</th>\n",
       "      <td>38308</td>\n",
       "      <td>38.308</td>\n",
       "    </tr>\n",
       "    <tr>\n",
       "      <th>HHstatin</th>\n",
       "      <td>37923</td>\n",
       "      <td>37.923</td>\n",
       "    </tr>\n",
       "    <tr>\n",
       "      <th>ownrent</th>\n",
       "      <td>33706</td>\n",
       "      <td>33.706</td>\n",
       "    </tr>\n",
       "    <tr>\n",
       "      <th>dwlltype</th>\n",
       "      <td>31909</td>\n",
       "      <td>31.909</td>\n",
       "    </tr>\n",
       "    <tr>\n",
       "      <th>lor</th>\n",
       "      <td>30190</td>\n",
       "      <td>30.190</td>\n",
       "    </tr>\n",
       "    <tr>\n",
       "      <th>income</th>\n",
       "      <td>25436</td>\n",
       "      <td>25.436</td>\n",
       "    </tr>\n",
       "    <tr>\n",
       "      <th>adults</th>\n",
       "      <td>23019</td>\n",
       "      <td>23.019</td>\n",
       "    </tr>\n",
       "    <tr>\n",
       "      <th>infobase</th>\n",
       "      <td>22079</td>\n",
       "      <td>22.079</td>\n",
       "    </tr>\n",
       "    <tr>\n",
       "      <th>hnd_webcap</th>\n",
       "      <td>10189</td>\n",
       "      <td>10.189</td>\n",
       "    </tr>\n",
       "    <tr>\n",
       "      <th>prizm_social_one</th>\n",
       "      <td>7388</td>\n",
       "      <td>7.388</td>\n",
       "    </tr>\n",
       "    <tr>\n",
       "      <th>avg6rev</th>\n",
       "      <td>2839</td>\n",
       "      <td>2.839</td>\n",
       "    </tr>\n",
       "    <tr>\n",
       "      <th>avg6mou</th>\n",
       "      <td>2839</td>\n",
       "      <td>2.839</td>\n",
       "    </tr>\n",
       "    <tr>\n",
       "      <th>avg6qty</th>\n",
       "      <td>2839</td>\n",
       "      <td>2.839</td>\n",
       "    </tr>\n",
       "    <tr>\n",
       "      <th>ethnic</th>\n",
       "      <td>1732</td>\n",
       "      <td>1.732</td>\n",
       "    </tr>\n",
       "    <tr>\n",
       "      <th>rv</th>\n",
       "      <td>1732</td>\n",
       "      <td>1.732</td>\n",
       "    </tr>\n",
       "    <tr>\n",
       "      <th>marital</th>\n",
       "      <td>1732</td>\n",
       "      <td>1.732</td>\n",
       "    </tr>\n",
       "    <tr>\n",
       "      <th>forgntvl</th>\n",
       "      <td>1732</td>\n",
       "      <td>1.732</td>\n",
       "    </tr>\n",
       "    <tr>\n",
       "      <th>kid0_2</th>\n",
       "      <td>1732</td>\n",
       "      <td>1.732</td>\n",
       "    </tr>\n",
       "    <tr>\n",
       "      <th>kid3_5</th>\n",
       "      <td>1732</td>\n",
       "      <td>1.732</td>\n",
       "    </tr>\n",
       "    <tr>\n",
       "      <th>kid6_10</th>\n",
       "      <td>1732</td>\n",
       "      <td>1.732</td>\n",
       "    </tr>\n",
       "    <tr>\n",
       "      <th>kid16_17</th>\n",
       "      <td>1732</td>\n",
       "      <td>1.732</td>\n",
       "    </tr>\n",
       "    <tr>\n",
       "      <th>creditcd</th>\n",
       "      <td>1732</td>\n",
       "      <td>1.732</td>\n",
       "    </tr>\n",
       "    <tr>\n",
       "      <th>truck</th>\n",
       "      <td>1732</td>\n",
       "      <td>1.732</td>\n",
       "    </tr>\n",
       "    <tr>\n",
       "      <th>kid11_15</th>\n",
       "      <td>1732</td>\n",
       "      <td>1.732</td>\n",
       "    </tr>\n",
       "    <tr>\n",
       "      <th>change_rev</th>\n",
       "      <td>891</td>\n",
       "      <td>0.891</td>\n",
       "    </tr>\n",
       "    <tr>\n",
       "      <th>change_mou</th>\n",
       "      <td>891</td>\n",
       "      <td>0.891</td>\n",
       "    </tr>\n",
       "    <tr>\n",
       "      <th>hnd_price</th>\n",
       "      <td>847</td>\n",
       "      <td>0.847</td>\n",
       "    </tr>\n",
       "    <tr>\n",
       "      <th>mou_Mean</th>\n",
       "      <td>357</td>\n",
       "      <td>0.357</td>\n",
       "    </tr>\n",
       "    <tr>\n",
       "      <th>rev_Mean</th>\n",
       "      <td>357</td>\n",
       "      <td>0.357</td>\n",
       "    </tr>\n",
       "    <tr>\n",
       "      <th>da_Mean</th>\n",
       "      <td>357</td>\n",
       "      <td>0.357</td>\n",
       "    </tr>\n",
       "    <tr>\n",
       "      <th>datovr_Mean</th>\n",
       "      <td>357</td>\n",
       "      <td>0.357</td>\n",
       "    </tr>\n",
       "    <tr>\n",
       "      <th>totmrc_Mean</th>\n",
       "      <td>357</td>\n",
       "      <td>0.357</td>\n",
       "    </tr>\n",
       "    <tr>\n",
       "      <th>ovrmou_Mean</th>\n",
       "      <td>357</td>\n",
       "      <td>0.357</td>\n",
       "    </tr>\n",
       "    <tr>\n",
       "      <th>ovrrev_Mean</th>\n",
       "      <td>357</td>\n",
       "      <td>0.357</td>\n",
       "    </tr>\n",
       "    <tr>\n",
       "      <th>vceovr_Mean</th>\n",
       "      <td>357</td>\n",
       "      <td>0.357</td>\n",
       "    </tr>\n",
       "    <tr>\n",
       "      <th>roam_Mean</th>\n",
       "      <td>357</td>\n",
       "      <td>0.357</td>\n",
       "    </tr>\n",
       "    <tr>\n",
       "      <th>area</th>\n",
       "      <td>40</td>\n",
       "      <td>0.040</td>\n",
       "    </tr>\n",
       "    <tr>\n",
       "      <th>refurb_new</th>\n",
       "      <td>1</td>\n",
       "      <td>0.001</td>\n",
       "    </tr>\n",
       "    <tr>\n",
       "      <th>dualband</th>\n",
       "      <td>1</td>\n",
       "      <td>0.001</td>\n",
       "    </tr>\n",
       "    <tr>\n",
       "      <th>phones</th>\n",
       "      <td>1</td>\n",
       "      <td>0.001</td>\n",
       "    </tr>\n",
       "    <tr>\n",
       "      <th>models</th>\n",
       "      <td>1</td>\n",
       "      <td>0.001</td>\n",
       "    </tr>\n",
       "    <tr>\n",
       "      <th>eqpdays</th>\n",
       "      <td>1</td>\n",
       "      <td>0.001</td>\n",
       "    </tr>\n",
       "    <tr>\n",
       "      <th>avgrev</th>\n",
       "      <td>0</td>\n",
       "      <td>0.000</td>\n",
       "    </tr>\n",
       "  </tbody>\n",
       "</table>\n",
       "</div>"
      ],
      "text/plain": [
       "                  No. missing values  % of missing data\n",
       "numbcars                       49366             49.366\n",
       "dwllsize                       38308             38.308\n",
       "HHstatin                       37923             37.923\n",
       "ownrent                        33706             33.706\n",
       "dwlltype                       31909             31.909\n",
       "lor                            30190             30.190\n",
       "income                         25436             25.436\n",
       "adults                         23019             23.019\n",
       "infobase                       22079             22.079\n",
       "hnd_webcap                     10189             10.189\n",
       "prizm_social_one                7388              7.388\n",
       "avg6rev                         2839              2.839\n",
       "avg6mou                         2839              2.839\n",
       "avg6qty                         2839              2.839\n",
       "ethnic                          1732              1.732\n",
       "rv                              1732              1.732\n",
       "marital                         1732              1.732\n",
       "forgntvl                        1732              1.732\n",
       "kid0_2                          1732              1.732\n",
       "kid3_5                          1732              1.732\n",
       "kid6_10                         1732              1.732\n",
       "kid16_17                        1732              1.732\n",
       "creditcd                        1732              1.732\n",
       "truck                           1732              1.732\n",
       "kid11_15                        1732              1.732\n",
       "change_rev                       891              0.891\n",
       "change_mou                       891              0.891\n",
       "hnd_price                        847              0.847\n",
       "mou_Mean                         357              0.357\n",
       "rev_Mean                         357              0.357\n",
       "da_Mean                          357              0.357\n",
       "datovr_Mean                      357              0.357\n",
       "totmrc_Mean                      357              0.357\n",
       "ovrmou_Mean                      357              0.357\n",
       "ovrrev_Mean                      357              0.357\n",
       "vceovr_Mean                      357              0.357\n",
       "roam_Mean                        357              0.357\n",
       "area                              40              0.040\n",
       "refurb_new                         1              0.001\n",
       "dualband                           1              0.001\n",
       "phones                             1              0.001\n",
       "models                             1              0.001\n",
       "eqpdays                            1              0.001\n",
       "avgrev                             0              0.000"
      ]
     },
     "execution_count": 137,
     "metadata": {},
     "output_type": "execute_result"
    }
   ],
   "source": [
    "# Features with missing values\n",
    "miss = df.isnull().sum().sort_values(ascending = False).head(44)\n",
    "miss_per = (miss/len(df))*100\n",
    "\n",
    "# Percentage of missing values\n",
    "pd.DataFrame({'No. missing values': miss, '% of missing data': miss_per.values})"
   ]
  },
  {
   "cell_type": "code",
   "execution_count": 29,
   "metadata": {},
   "outputs": [
    {
     "name": "stdout",
     "output_type": "stream",
     "text": [
      "値が欠損しているカラム数の最大値: 22\n",
      "欠損カラムが10個以上あるデータ数: 537\n",
      "欠損カラムが10個以上あるデータのchurn=1の割合: 0.5828677839851024\n"
     ]
    }
   ],
   "source": [
    "max_size = 0\n",
    "count = 0\n",
    "churn_count = 0\n",
    "for i in range(10000):\n",
    "    null_size = df.iloc[i].isnull().sum()\n",
    "    if null_size > max_size:\n",
    "        max_size = null_size\n",
    "    if null_size >= 10:\n",
    "        count += 1\n",
    "        churn_count += df.iloc[i]['churn']\n",
    "print('値が欠損しているカラム数の最大値:', max_size)\n",
    "print('欠損カラムが10個以上あるデータ数:', count)\n",
    "print('欠損カラムが10個以上あるデータのchurn=1の割合:', churn_count / count)"
   ]
  },
  {
   "cell_type": "markdown",
   "metadata": {},
   "source": [
    "元データのchurn=1の割合が0.496（下記参照）なので、0.583は高いと言える。  \n",
    "データがきちんと取れていないレコードが多数ある。"
   ]
  },
  {
   "cell_type": "markdown",
   "metadata": {},
   "source": [
    "### 目的変数（churn）のデータ分析"
   ]
  },
  {
   "cell_type": "code",
   "execution_count": 117,
   "metadata": {},
   "outputs": [
    {
     "name": "stdout",
     "output_type": "stream",
     "text": [
      "num of pepole who stay: 50326\n",
      "num of pepole who churn: 49317\n"
     ]
    },
    {
     "data": {
      "image/png": "[encoded data removed]",
      "text/plain": [
       "<Figure size 432x288 with 1 Axes>"
      ]
     },
     "metadata": {},
     "output_type": "display_data"
    }
   ],
   "source": [
    "stay = df[(df['churn'] ==0) ].count()[1]\n",
    "churn = df[(df['churn'] ==1) ].count()[1]\n",
    "print (\"num of pepole who stay: \"+ str(stay))\n",
    "print (\"num of pepole who churn: \"+ str(churn))\n",
    "\n",
    "# ratio of those who churn and those who don't\n",
    "sizes = [48401,47647]\n",
    "labels='NO','YES'\n",
    "explode = (0, 0.1)  \n",
    "fig1, ax1 = plt.subplots()\n",
    "ax1.pie(sizes, explode=explode,autopct='%1.1f%%',shadow=True, startangle=75 )\n",
    "ax1.axis('equal') \n",
    "ax1.set_title(\"Client Churn Distribution\")\n",
    "\n",
    "ax1.legend(labels)\n",
    "\n",
    "plt.show()"
   ]
  },
  {
   "cell_type": "markdown",
   "metadata": {},
   "source": [
    "ほぼ、1:1の割合であり、均衡データであることがわかる。"
   ]
  },
  {
   "cell_type": "code",
   "execution_count": 118,
   "metadata": {},
   "outputs": [],
   "source": [
    "fig1.savefig('../images/target.png')"
   ]
  },
  {
   "cell_type": "markdown",
   "metadata": {},
   "source": [
    "### ベースラインモデル\n",
    "まず、LightGBMで、どのような特徴量がchurnの予測に重要であるかを調べることにする。"
   ]
  },
  {
   "cell_type": "code",
   "execution_count": 139,
   "metadata": {},
   "outputs": [],
   "source": [
    "def columns_categories(data_set):\n",
    "    object_columns = []\n",
    "    float_columns = []\n",
    "    int_columns = []\n",
    "    other_columns = []\n",
    "    n,m,s=0,0,0\n",
    "    for i in data_set.columns.values:\n",
    "        if data_set[i].dtypes=='object':\n",
    "            object_columns.append(i)\n",
    "            n+=1\n",
    "        if data_set[i].dtypes=='int':\n",
    "            int_columns.append(i)\n",
    "            m+=1\n",
    "        if data_set[i].dtypes=='float':\n",
    "            float_columns.append(i)\n",
    "            s+=1\n",
    "    print('object(',n,'):\\n',object_columns)\n",
    "    print('int(',m,'):\\n',int_columns)\n",
    "    print('float(',s,'):\\n',float_columns)"
   ]
  },
  {
   "cell_type": "code",
   "execution_count": 140,
   "metadata": {},
   "outputs": [
    {
     "name": "stdout",
     "output_type": "stream",
     "text": [
      "object( 21 ):\n",
      " ['new_cell', 'crclscod', 'asl_flag', 'prizm_social_one', 'area', 'dualband', 'refurb_new', 'hnd_webcap', 'ownrent', 'dwlltype', 'marital', 'infobase', 'HHstatin', 'dwllsize', 'ethnic', 'kid0_2', 'kid3_5', 'kid6_10', 'kid11_15', 'kid16_17', 'creditcd']\n",
      "int( 10 ):\n",
      " ['churn', 'months', 'uniqsubs', 'actvsubs', 'totcalls', 'adjqty', 'avg3mou', 'avg3qty', 'avg3rev', 'Customer_ID']\n",
      "float( 69 ):\n",
      " ['rev_Mean', 'mou_Mean', 'totmrc_Mean', 'da_Mean', 'ovrmou_Mean', 'ovrrev_Mean', 'vceovr_Mean', 'datovr_Mean', 'roam_Mean', 'change_mou', 'change_rev', 'drop_vce_Mean', 'drop_dat_Mean', 'blck_vce_Mean', 'blck_dat_Mean', 'unan_vce_Mean', 'unan_dat_Mean', 'plcd_vce_Mean', 'plcd_dat_Mean', 'recv_vce_Mean', 'recv_sms_Mean', 'comp_vce_Mean', 'comp_dat_Mean', 'custcare_Mean', 'ccrndmou_Mean', 'cc_mou_Mean', 'inonemin_Mean', 'threeway_Mean', 'mou_cvce_Mean', 'mou_cdat_Mean', 'mou_rvce_Mean', 'owylis_vce_Mean', 'mouowylisv_Mean', 'iwylis_vce_Mean', 'mouiwylisv_Mean', 'peak_vce_Mean', 'peak_dat_Mean', 'mou_peav_Mean', 'mou_pead_Mean', 'opk_vce_Mean', 'opk_dat_Mean', 'mou_opkv_Mean', 'mou_opkd_Mean', 'drop_blk_Mean', 'attempt_Mean', 'complete_Mean', 'callfwdv_Mean', 'callwait_Mean', 'totmou', 'totrev', 'adjrev', 'adjmou', 'avgrev', 'avgmou', 'avgqty', 'avg6mou', 'avg6qty', 'avg6rev', 'hnd_price', 'phones', 'models', 'truck', 'rv', 'lor', 'adults', 'income', 'numbcars', 'forgntvl', 'eqpdays']\n"
     ]
    }
   ],
   "source": [
    "columns_categories(df)"
   ]
  },
  {
   "cell_type": "code",
   "execution_count": 8,
   "metadata": {},
   "outputs": [
    {
     "data": {
      "text/plain": [
       "Index(['new_cell', 'crclscod', 'asl_flag', 'prizm_social_one', 'area',\n",
       "       'dualband', 'refurb_new', 'hnd_webcap', 'ownrent', 'dwlltype',\n",
       "       'marital', 'infobase', 'HHstatin', 'dwllsize', 'ethnic', 'kid0_2',\n",
       "       'kid3_5', 'kid6_10', 'kid11_15', 'kid16_17', 'creditcd'],\n",
       "      dtype='object')"
      ]
     },
     "execution_count": 8,
     "metadata": {},
     "output_type": "execute_result"
    }
   ],
   "source": [
    "# カテゴリカル変数を抽出\n",
    "obj_col = df.select_dtypes(include = 'object').columns\n",
    "obj_col"
   ]
  },
  {
   "cell_type": "code",
   "execution_count": 4,
   "metadata": {},
   "outputs": [
    {
     "name": "stdout",
     "output_type": "stream",
     "text": [
      "new_cell --> 3\n",
      "crclscod --> 54\n",
      "asl_flag --> 2\n",
      "prizm_social_one --> 5\n",
      "area --> 19\n",
      "dualband --> 4\n",
      "refurb_new --> 2\n",
      "hnd_webcap --> 3\n",
      "ownrent --> 2\n",
      "dwlltype --> 2\n",
      "marital --> 5\n",
      "infobase --> 2\n",
      "HHstatin --> 6\n",
      "dwllsize --> 15\n",
      "ethnic --> 17\n",
      "kid0_2 --> 2\n",
      "kid3_5 --> 2\n",
      "kid6_10 --> 2\n",
      "kid11_15 --> 2\n",
      "kid16_17 --> 2\n",
      "creditcd --> 2\n"
     ]
    }
   ],
   "source": [
    "# カテゴリカル変数のユニークな値の数を調べる\n",
    "encoding_col=[]\n",
    "for i in df.select_dtypes(include='object'):   \n",
    "    print(i,'-->',df[i].nunique())\n",
    "    encoding_col.append(i)"
   ]
  },
  {
   "cell_type": "code",
   "execution_count": 9,
   "metadata": {},
   "outputs": [],
   "source": [
    "df2 = df.copy()\n",
    "df2 = pd.get_dummies(df2, drop_first=True, columns = encoding_col, prefix = encoding_col)\n",
    "df2.drop(\"Customer_ID\", axis=1, inplace=True)"
   ]
  },
  {
   "cell_type": "code",
   "execution_count": 10,
   "metadata": {},
   "outputs": [
    {
     "data": {
      "text/html": [
       "<div>\n",
       "<style scoped>\n",
       "    .dataframe tbody tr th:only-of-type {\n",
       "        vertical-align: middle;\n",
       "    }\n",
       "\n",
       "    .dataframe tbody tr th {\n",
       "        vertical-align: top;\n",
       "    }\n",
       "\n",
       "    .dataframe thead th {\n",
       "        text-align: right;\n",
       "    }\n",
       "</style>\n",
       "<table border=\"1\" class=\"dataframe\">\n",
       "  <thead>\n",
       "    <tr style=\"text-align: right;\">\n",
       "      <th></th>\n",
       "      <th>rev_Mean</th>\n",
       "      <th>mou_Mean</th>\n",
       "      <th>totmrc_Mean</th>\n",
       "      <th>da_Mean</th>\n",
       "      <th>ovrmou_Mean</th>\n",
       "      <th>ovrrev_Mean</th>\n",
       "      <th>vceovr_Mean</th>\n",
       "      <th>datovr_Mean</th>\n",
       "      <th>roam_Mean</th>\n",
       "      <th>change_mou</th>\n",
       "      <th>...</th>\n",
       "      <th>ethnic_S</th>\n",
       "      <th>ethnic_U</th>\n",
       "      <th>ethnic_X</th>\n",
       "      <th>ethnic_Z</th>\n",
       "      <th>kid0_2_Y</th>\n",
       "      <th>kid3_5_Y</th>\n",
       "      <th>kid6_10_Y</th>\n",
       "      <th>kid11_15_Y</th>\n",
       "      <th>kid16_17_Y</th>\n",
       "      <th>creditcd_Y</th>\n",
       "    </tr>\n",
       "  </thead>\n",
       "  <tbody>\n",
       "    <tr>\n",
       "      <th>0</th>\n",
       "      <td>23.9975</td>\n",
       "      <td>219.25</td>\n",
       "      <td>22.500</td>\n",
       "      <td>0.2475</td>\n",
       "      <td>0.00</td>\n",
       "      <td>0.0</td>\n",
       "      <td>0.0</td>\n",
       "      <td>0.0</td>\n",
       "      <td>0.0</td>\n",
       "      <td>-157.25</td>\n",
       "      <td>...</td>\n",
       "      <td>0</td>\n",
       "      <td>0</td>\n",
       "      <td>0</td>\n",
       "      <td>0</td>\n",
       "      <td>0</td>\n",
       "      <td>0</td>\n",
       "      <td>0</td>\n",
       "      <td>0</td>\n",
       "      <td>0</td>\n",
       "      <td>1</td>\n",
       "    </tr>\n",
       "    <tr>\n",
       "      <th>1</th>\n",
       "      <td>57.4925</td>\n",
       "      <td>482.75</td>\n",
       "      <td>37.425</td>\n",
       "      <td>0.2475</td>\n",
       "      <td>22.75</td>\n",
       "      <td>9.1</td>\n",
       "      <td>9.1</td>\n",
       "      <td>0.0</td>\n",
       "      <td>0.0</td>\n",
       "      <td>532.25</td>\n",
       "      <td>...</td>\n",
       "      <td>0</td>\n",
       "      <td>0</td>\n",
       "      <td>0</td>\n",
       "      <td>1</td>\n",
       "      <td>0</td>\n",
       "      <td>0</td>\n",
       "      <td>0</td>\n",
       "      <td>0</td>\n",
       "      <td>0</td>\n",
       "      <td>1</td>\n",
       "    </tr>\n",
       "    <tr>\n",
       "      <th>2</th>\n",
       "      <td>16.9900</td>\n",
       "      <td>10.25</td>\n",
       "      <td>16.990</td>\n",
       "      <td>0.0000</td>\n",
       "      <td>0.00</td>\n",
       "      <td>0.0</td>\n",
       "      <td>0.0</td>\n",
       "      <td>0.0</td>\n",
       "      <td>0.0</td>\n",
       "      <td>-4.25</td>\n",
       "      <td>...</td>\n",
       "      <td>0</td>\n",
       "      <td>0</td>\n",
       "      <td>0</td>\n",
       "      <td>0</td>\n",
       "      <td>0</td>\n",
       "      <td>1</td>\n",
       "      <td>0</td>\n",
       "      <td>0</td>\n",
       "      <td>0</td>\n",
       "      <td>1</td>\n",
       "    </tr>\n",
       "    <tr>\n",
       "      <th>3</th>\n",
       "      <td>38.0000</td>\n",
       "      <td>7.50</td>\n",
       "      <td>38.000</td>\n",
       "      <td>0.0000</td>\n",
       "      <td>0.00</td>\n",
       "      <td>0.0</td>\n",
       "      <td>0.0</td>\n",
       "      <td>0.0</td>\n",
       "      <td>0.0</td>\n",
       "      <td>-1.50</td>\n",
       "      <td>...</td>\n",
       "      <td>0</td>\n",
       "      <td>1</td>\n",
       "      <td>0</td>\n",
       "      <td>0</td>\n",
       "      <td>1</td>\n",
       "      <td>0</td>\n",
       "      <td>0</td>\n",
       "      <td>0</td>\n",
       "      <td>0</td>\n",
       "      <td>1</td>\n",
       "    </tr>\n",
       "    <tr>\n",
       "      <th>4</th>\n",
       "      <td>55.2300</td>\n",
       "      <td>570.50</td>\n",
       "      <td>71.980</td>\n",
       "      <td>0.0000</td>\n",
       "      <td>0.00</td>\n",
       "      <td>0.0</td>\n",
       "      <td>0.0</td>\n",
       "      <td>0.0</td>\n",
       "      <td>0.0</td>\n",
       "      <td>38.50</td>\n",
       "      <td>...</td>\n",
       "      <td>0</td>\n",
       "      <td>0</td>\n",
       "      <td>0</td>\n",
       "      <td>0</td>\n",
       "      <td>0</td>\n",
       "      <td>0</td>\n",
       "      <td>0</td>\n",
       "      <td>0</td>\n",
       "      <td>0</td>\n",
       "      <td>1</td>\n",
       "    </tr>\n",
       "  </tbody>\n",
       "</table>\n",
       "<p>5 rows × 210 columns</p>\n",
       "</div>"
      ],
      "text/plain": [
       "   rev_Mean  mou_Mean  totmrc_Mean  da_Mean  ovrmou_Mean  ovrrev_Mean  \\\n",
       "0   23.9975    219.25       22.500   0.2475         0.00          0.0   \n",
       "1   57.4925    482.75       37.425   0.2475        22.75          9.1   \n",
       "2   16.9900     10.25       16.990   0.0000         0.00          0.0   \n",
       "3   38.0000      7.50       38.000   0.0000         0.00          0.0   \n",
       "4   55.2300    570.50       71.980   0.0000         0.00          0.0   \n",
       "\n",
       "   vceovr_Mean  datovr_Mean  roam_Mean  change_mou  ...  ethnic_S  ethnic_U  \\\n",
       "0          0.0          0.0        0.0     -157.25  ...         0         0   \n",
       "1          9.1          0.0        0.0      532.25  ...         0         0   \n",
       "2          0.0          0.0        0.0       -4.25  ...         0         0   \n",
       "3          0.0          0.0        0.0       -1.50  ...         0         1   \n",
       "4          0.0          0.0        0.0       38.50  ...         0         0   \n",
       "\n",
       "   ethnic_X  ethnic_Z  kid0_2_Y  kid3_5_Y  kid6_10_Y  kid11_15_Y  kid16_17_Y  \\\n",
       "0         0         0         0         0          0           0           0   \n",
       "1         0         1         0         0          0           0           0   \n",
       "2         0         0         0         1          0           0           0   \n",
       "3         0         0         1         0          0           0           0   \n",
       "4         0         0         0         0          0           0           0   \n",
       "\n",
       "   creditcd_Y  \n",
       "0           1  \n",
       "1           1  \n",
       "2           1  \n",
       "3           1  \n",
       "4           1  \n",
       "\n",
       "[5 rows x 210 columns]"
      ]
     },
     "execution_count": 10,
     "metadata": {},
     "output_type": "execute_result"
    }
   ],
   "source": [
    "df2.head()"
   ]
  },
  {
   "cell_type": "code",
   "execution_count": 11,
   "metadata": {},
   "outputs": [],
   "source": [
    "from sklearn.model_selection import train_test_split\n",
    "import lightgbm as lgb\n",
    "TARGET = \"churn\"\n",
    "X = df2.drop(TARGET,axis=1) \n",
    "y = df2[TARGET] # 目的変数\n",
    "# トレーニングデータ,テストデータの分割\n",
    "X_train, X_valid, y_train, y_valid = train_test_split(X, y,test_size=0.2, random_state=0)"
   ]
  },
  {
   "cell_type": "code",
   "execution_count": 12,
   "metadata": {},
   "outputs": [
    {
     "name": "stdout",
     "output_type": "stream",
     "text": [
      "[LightGBM] [Warning] Find whitespaces in feature_names, replace with underlines\n",
      "[LightGBM] [Info] Number of positive: 39665, number of negative: 40335\n",
      "[LightGBM] [Warning] Auto-choosing row-wise multi-threading, the overhead of testing was 0.021292 seconds.\n",
      "You can set `force_row_wise=true` to remove the overhead.\n",
      "And if memory is not enough, you can set `force_col_wise=true`.\n",
      "[LightGBM] [Info] Total Bins 14917\n",
      "[LightGBM] [Info] Number of data points in the train set: 80000, number of used features: 205\n",
      "[LightGBM] [Warning] Find whitespaces in feature_names, replace with underlines\n",
      "[LightGBM] [Info] [binary:BoostFromScore]: pavg=0.495812 -> initscore=-0.016750\n",
      "[LightGBM] [Info] Start training from score -0.016750\n",
      "[1]\tvalid_0's auc: 0.639201\n",
      "Training until validation scores don't improve for 20 rounds\n",
      "[2]\tvalid_0's auc: 0.63984\n",
      "[3]\tvalid_0's auc: 0.641908\n",
      "[4]\tvalid_0's auc: 0.641996\n",
      "[5]\tvalid_0's auc: 0.642645\n",
      "[6]\tvalid_0's auc: 0.642996\n",
      "[7]\tvalid_0's auc: 0.642652\n",
      "[8]\tvalid_0's auc: 0.643496\n",
      "[9]\tvalid_0's auc: 0.644647\n",
      "[10]\tvalid_0's auc: 0.644925\n",
      "[11]\tvalid_0's auc: 0.64755\n",
      "[12]\tvalid_0's auc: 0.648511\n",
      "[13]\tvalid_0's auc: 0.64903\n",
      "[14]\tvalid_0's auc: 0.649953\n",
      "[15]\tvalid_0's auc: 0.64972\n",
      "[16]\tvalid_0's auc: 0.650283\n",
      "[17]\tvalid_0's auc: 0.650377\n",
      "[18]\tvalid_0's auc: 0.651342\n",
      "[19]\tvalid_0's auc: 0.651977\n",
      "[20]\tvalid_0's auc: 0.653236\n",
      "[21]\tvalid_0's auc: 0.654058\n",
      "[22]\tvalid_0's auc: 0.65505\n",
      "[23]\tvalid_0's auc: 0.65587\n",
      "[24]\tvalid_0's auc: 0.656157\n",
      "[25]\tvalid_0's auc: 0.656862\n",
      "[26]\tvalid_0's auc: 0.657222\n",
      "[27]\tvalid_0's auc: 0.657872\n",
      "[28]\tvalid_0's auc: 0.658408\n",
      "[29]\tvalid_0's auc: 0.658794\n",
      "[30]\tvalid_0's auc: 0.659253\n",
      "[31]\tvalid_0's auc: 0.659766\n",
      "[32]\tvalid_0's auc: 0.660168\n",
      "[33]\tvalid_0's auc: 0.660533\n",
      "[34]\tvalid_0's auc: 0.661046\n",
      "[35]\tvalid_0's auc: 0.661219\n",
      "[36]\tvalid_0's auc: 0.661645\n",
      "[37]\tvalid_0's auc: 0.662137\n",
      "[38]\tvalid_0's auc: 0.662347\n",
      "[39]\tvalid_0's auc: 0.66248\n",
      "[40]\tvalid_0's auc: 0.662702\n",
      "[41]\tvalid_0's auc: 0.663517\n",
      "[42]\tvalid_0's auc: 0.663921\n",
      "[43]\tvalid_0's auc: 0.664046\n",
      "[44]\tvalid_0's auc: 0.664133\n",
      "[45]\tvalid_0's auc: 0.664276\n",
      "[46]\tvalid_0's auc: 0.664633\n",
      "[47]\tvalid_0's auc: 0.664903\n",
      "[48]\tvalid_0's auc: 0.665079\n",
      "[49]\tvalid_0's auc: 0.665382\n",
      "[50]\tvalid_0's auc: 0.665668\n",
      "[51]\tvalid_0's auc: 0.666026\n",
      "[52]\tvalid_0's auc: 0.666517\n",
      "[53]\tvalid_0's auc: 0.666764\n",
      "[54]\tvalid_0's auc: 0.666978\n",
      "[55]\tvalid_0's auc: 0.667343\n",
      "[56]\tvalid_0's auc: 0.667673\n",
      "[57]\tvalid_0's auc: 0.668218\n",
      "[58]\tvalid_0's auc: 0.668567\n",
      "[59]\tvalid_0's auc: 0.669214\n",
      "[60]\tvalid_0's auc: 0.669391\n",
      "[61]\tvalid_0's auc: 0.669604\n",
      "[62]\tvalid_0's auc: 0.669911\n",
      "[63]\tvalid_0's auc: 0.670147\n",
      "[64]\tvalid_0's auc: 0.670667\n",
      "[65]\tvalid_0's auc: 0.67099\n",
      "[66]\tvalid_0's auc: 0.671226\n",
      "[67]\tvalid_0's auc: 0.671834\n",
      "[68]\tvalid_0's auc: 0.671981\n",
      "[69]\tvalid_0's auc: 0.672104\n",
      "[70]\tvalid_0's auc: 0.672347\n",
      "[71]\tvalid_0's auc: 0.672901\n",
      "[72]\tvalid_0's auc: 0.673104\n",
      "[73]\tvalid_0's auc: 0.673258\n",
      "[74]\tvalid_0's auc: 0.673774\n",
      "[75]\tvalid_0's auc: 0.674022\n",
      "[76]\tvalid_0's auc: 0.674282\n",
      "[77]\tvalid_0's auc: 0.674429\n",
      "[78]\tvalid_0's auc: 0.674652\n",
      "[79]\tvalid_0's auc: 0.674954\n",
      "[80]\tvalid_0's auc: 0.675085\n",
      "[81]\tvalid_0's auc: 0.675517\n",
      "[82]\tvalid_0's auc: 0.676012\n",
      "[83]\tvalid_0's auc: 0.676237\n",
      "[84]\tvalid_0's auc: 0.676427\n",
      "[85]\tvalid_0's auc: 0.676656\n",
      "[86]\tvalid_0's auc: 0.676947\n",
      "[87]\tvalid_0's auc: 0.67725\n",
      "[88]\tvalid_0's auc: 0.677424\n",
      "[89]\tvalid_0's auc: 0.677658\n",
      "[90]\tvalid_0's auc: 0.678032\n",
      "[91]\tvalid_0's auc: 0.678171\n",
      "[92]\tvalid_0's auc: 0.678307\n",
      "[93]\tvalid_0's auc: 0.678409\n",
      "[94]\tvalid_0's auc: 0.678734\n",
      "[95]\tvalid_0's auc: 0.678891\n",
      "[96]\tvalid_0's auc: 0.678991\n",
      "[97]\tvalid_0's auc: 0.679248\n",
      "[98]\tvalid_0's auc: 0.67933\n",
      "[99]\tvalid_0's auc: 0.679519\n",
      "[100]\tvalid_0's auc: 0.679653\n",
      "Did not meet early stopping. Best iteration is:\n",
      "[100]\tvalid_0's auc: 0.679653\n"
     ]
    }
   ],
   "source": [
    "# 学習に使用するデータを設定\n",
    "lgb_train = lgb.Dataset(X_train, y_train)\n",
    "lgb_eval = lgb.Dataset(X_valid, y_valid, reference=lgb_train) \n",
    "\n",
    "# パラメータ\n",
    "params = {\n",
    "        'task': 'train',\n",
    "        'boosting_type': 'gbdt',\n",
    "        'objective': 'binary', # 目的 : 分類\n",
    "        'metric': {'auc'},\n",
    "         'num_leaves': 20,             \n",
    "        'max_depth':5,\n",
    "        'min_data_in_leaf': 3,        \n",
    "        'num_iteration': 100,            \n",
    "        'learning_rate':0.03,\n",
    "        'num_boost_round':100,\n",
    "         'early_stopping_rounds':20, \n",
    "}\n",
    "\n",
    "# モデルの学習\n",
    "model = lgb.train(params,\n",
    "                  train_set=lgb_train, # トレーニングデータの指定\n",
    "                  valid_sets=lgb_eval, # 検証データの指定\n",
    "                  )\n",
    "\n",
    "# テストデータの予測\n",
    "y_pred = model.predict(X_valid)"
   ]
  },
  {
   "cell_type": "code",
   "execution_count": 13,
   "metadata": {},
   "outputs": [
    {
     "data": {
      "text/plain": [
       "<AxesSubplot:title={'center':'Feature importance'}, xlabel='Feature importance', ylabel='Features'>"
      ]
     },
     "execution_count": 13,
     "metadata": {},
     "output_type": "execute_result"
    },
    {
     "data": {
      "image/png": "[encoded data removed]",
      "text/plain": [
       "<Figure size 2160x2880 with 1 Axes>"
      ]
     },
     "metadata": {
      "needs_background": "light"
     },
     "output_type": "display_data"
    }
   ],
   "source": [
    "lgb.plot_importance(model, height=0.5, figsize=(30,40))"
   ]
  },
  {
   "cell_type": "code",
   "execution_count": 154,
   "metadata": {},
   "outputs": [
    {
     "data": {
      "text/html": [
       "<div>\n",
       "<style scoped>\n",
       "    .dataframe tbody tr th:only-of-type {\n",
       "        vertical-align: middle;\n",
       "    }\n",
       "\n",
       "    .dataframe tbody tr th {\n",
       "        vertical-align: top;\n",
       "    }\n",
       "\n",
       "    .dataframe thead th {\n",
       "        text-align: right;\n",
       "    }\n",
       "</style>\n",
       "<table border=\"1\" class=\"dataframe\">\n",
       "  <thead>\n",
       "    <tr style=\"text-align: right;\">\n",
       "      <th></th>\n",
       "      <th>importance</th>\n",
       "    </tr>\n",
       "  </thead>\n",
       "  <tbody>\n",
       "    <tr>\n",
       "      <th>months</th>\n",
       "      <td>214</td>\n",
       "    </tr>\n",
       "    <tr>\n",
       "      <th>mou_Mean</th>\n",
       "      <td>194</td>\n",
       "    </tr>\n",
       "    <tr>\n",
       "      <th>change_mou</th>\n",
       "      <td>190</td>\n",
       "    </tr>\n",
       "    <tr>\n",
       "      <th>totmrc_Mean</th>\n",
       "      <td>112</td>\n",
       "    </tr>\n",
       "    <tr>\n",
       "      <th>change_rev</th>\n",
       "      <td>110</td>\n",
       "    </tr>\n",
       "    <tr>\n",
       "      <th>hnd_price</th>\n",
       "      <td>85</td>\n",
       "    </tr>\n",
       "    <tr>\n",
       "      <th>eqpdays</th>\n",
       "      <td>67</td>\n",
       "    </tr>\n",
       "    <tr>\n",
       "      <th>asl_flag_Y</th>\n",
       "      <td>65</td>\n",
       "    </tr>\n",
       "    <tr>\n",
       "      <th>lor</th>\n",
       "      <td>64</td>\n",
       "    </tr>\n",
       "    <tr>\n",
       "      <th>avgqty</th>\n",
       "      <td>56</td>\n",
       "    </tr>\n",
       "    <tr>\n",
       "      <th>uniqsubs</th>\n",
       "      <td>56</td>\n",
       "    </tr>\n",
       "    <tr>\n",
       "      <th>mou_cvce_Mean</th>\n",
       "      <td>45</td>\n",
       "    </tr>\n",
       "    <tr>\n",
       "      <th>avgrev</th>\n",
       "      <td>41</td>\n",
       "    </tr>\n",
       "    <tr>\n",
       "      <th>ovrrev_Mean</th>\n",
       "      <td>31</td>\n",
       "    </tr>\n",
       "    <tr>\n",
       "      <th>avgmou</th>\n",
       "      <td>31</td>\n",
       "    </tr>\n",
       "    <tr>\n",
       "      <th>crclscod_EA</th>\n",
       "      <td>29</td>\n",
       "    </tr>\n",
       "    <tr>\n",
       "      <th>ovrmou_Mean</th>\n",
       "      <td>28</td>\n",
       "    </tr>\n",
       "    <tr>\n",
       "      <th>vceovr_Mean</th>\n",
       "      <td>27</td>\n",
       "    </tr>\n",
       "    <tr>\n",
       "      <th>avg6rev</th>\n",
       "      <td>27</td>\n",
       "    </tr>\n",
       "    <tr>\n",
       "      <th>totcalls</th>\n",
       "      <td>25</td>\n",
       "    </tr>\n",
       "    <tr>\n",
       "      <th>rev_Mean</th>\n",
       "      <td>24</td>\n",
       "    </tr>\n",
       "    <tr>\n",
       "      <th>ethnic_Z</th>\n",
       "      <td>23</td>\n",
       "    </tr>\n",
       "    <tr>\n",
       "      <th>ethnic_O</th>\n",
       "      <td>20</td>\n",
       "    </tr>\n",
       "    <tr>\n",
       "      <th>hnd_webcap_WCMB</th>\n",
       "      <td>18</td>\n",
       "    </tr>\n",
       "    <tr>\n",
       "      <th>custcare_Mean</th>\n",
       "      <td>17</td>\n",
       "    </tr>\n",
       "    <tr>\n",
       "      <th>drop_vce_Mean</th>\n",
       "      <td>16</td>\n",
       "    </tr>\n",
       "    <tr>\n",
       "      <th>adjqty</th>\n",
       "      <td>14</td>\n",
       "    </tr>\n",
       "    <tr>\n",
       "      <th>avg3qty</th>\n",
       "      <td>14</td>\n",
       "    </tr>\n",
       "    <tr>\n",
       "      <th>iwylis_vce_Mean</th>\n",
       "      <td>14</td>\n",
       "    </tr>\n",
       "    <tr>\n",
       "      <th>area_NORTHWEST/ROCKY MOUNTAIN AREA</th>\n",
       "      <td>12</td>\n",
       "    </tr>\n",
       "  </tbody>\n",
       "</table>\n",
       "</div>"
      ],
      "text/plain": [
       "                                    importance\n",
       "months                                     214\n",
       "mou_Mean                                   194\n",
       "change_mou                                 190\n",
       "totmrc_Mean                                112\n",
       "change_rev                                 110\n",
       "hnd_price                                   85\n",
       "eqpdays                                     67\n",
       "asl_flag_Y                                  65\n",
       "lor                                         64\n",
       "avgqty                                      56\n",
       "uniqsubs                                    56\n",
       "mou_cvce_Mean                               45\n",
       "avgrev                                      41\n",
       "ovrrev_Mean                                 31\n",
       "avgmou                                      31\n",
       "crclscod_EA                                 29\n",
       "ovrmou_Mean                                 28\n",
       "vceovr_Mean                                 27\n",
       "avg6rev                                     27\n",
       "totcalls                                    25\n",
       "rev_Mean                                    24\n",
       "ethnic_Z                                    23\n",
       "ethnic_O                                    20\n",
       "hnd_webcap_WCMB                             18\n",
       "custcare_Mean                               17\n",
       "drop_vce_Mean                               16\n",
       "adjqty                                      14\n",
       "avg3qty                                     14\n",
       "iwylis_vce_Mean                             14\n",
       "area_NORTHWEST/ROCKY MOUNTAIN AREA          12"
      ]
     },
     "execution_count": 154,
     "metadata": {},
     "output_type": "execute_result"
    }
   ],
   "source": [
    "importances = pd.DataFrame(model.feature_importance(), index=X.columns, columns=['importance'])\n",
    "importances.sort_values(by='importance', ascending=False).head(30)"
   ]
  },
  {
   "cell_type": "markdown",
   "metadata": {},
   "source": [
    "重要度の高い特徴量をいくつか検討してみる。"
   ]
  },
  {
   "cell_type": "markdown",
   "metadata": {},
   "source": [
    "### 重要度の高い特徴量"
   ]
  },
  {
   "cell_type": "code",
   "execution_count": 18,
   "metadata": {},
   "outputs": [],
   "source": [
    "def feature_describe(df, col):\n",
    "    print('平均')\n",
    "    display(df.groupby(['churn'])[col].mean())\n",
    "    print('------------------------------')\n",
    "    print('中央値')\n",
    "    display(df.groupby(['churn'])[col].median())\n",
    "    print('------------------------------')\n",
    "    print('欠損値の数：', df[col].isnull().sum())\n",
    "    print('------------------------------')\n",
    "    print('統計量')\n",
    "    display(df[col].describe())\n",
    "    print('------------------------------')"
   ]
  },
  {
   "cell_type": "markdown",
   "metadata": {},
   "source": [
    "#### months（サービス利用開始からの総月数）"
   ]
  },
  {
   "cell_type": "code",
   "execution_count": 19,
   "metadata": {},
   "outputs": [
    {
     "name": "stdout",
     "output_type": "stream",
     "text": [
      "平均\n"
     ]
    },
    {
     "data": {
      "text/plain": [
       "churn\n",
       "0    18.633074\n",
       "1    19.038457\n",
       "Name: months, dtype: float64"
      ]
     },
     "metadata": {},
     "output_type": "display_data"
    },
    {
     "name": "stdout",
     "output_type": "stream",
     "text": [
      "------------------------------\n",
      "中央値\n"
     ]
    },
    {
     "data": {
      "text/plain": [
       "churn\n",
       "0    16\n",
       "1    17\n",
       "Name: months, dtype: int64"
      ]
     },
     "metadata": {},
     "output_type": "display_data"
    },
    {
     "name": "stdout",
     "output_type": "stream",
     "text": [
      "------------------------------\n",
      "欠損値の数： 0\n",
      "------------------------------\n",
      "統計量\n"
     ]
    },
    {
     "data": {
      "text/plain": [
       "count    100000.000000\n",
       "mean         18.833990\n",
       "std           9.655794\n",
       "min           6.000000\n",
       "25%          11.000000\n",
       "50%          16.000000\n",
       "75%          24.000000\n",
       "max          61.000000\n",
       "Name: months, dtype: float64"
      ]
     },
     "metadata": {},
     "output_type": "display_data"
    },
    {
     "name": "stdout",
     "output_type": "stream",
     "text": [
      "------------------------------\n"
     ]
    }
   ],
   "source": [
    "feature_describe(df, 'months')"
   ]
  },
  {
   "cell_type": "code",
   "execution_count": 20,
   "metadata": {},
   "outputs": [
    {
     "data": {
      "text/plain": [
       "<AxesSubplot:ylabel='Frequency'>"
      ]
     },
     "execution_count": 20,
     "metadata": {},
     "output_type": "execute_result"
    },
    {
     "data": {
      "image/png": "[encoded data removed]",
      "text/plain": [
       "<Figure size 432x288 with 1 Axes>"
      ]
     },
     "metadata": {
      "needs_background": "light"
     },
     "output_type": "display_data"
    }
   ],
   "source": [
    "bins_list = [6, 12, 18, 24, 30, 36, 42, 48, 54, 60, 66]\n",
    "df['months'].plot.hist(bins=bins_list, alpha=0.5, legend=True)"
   ]
  },
  {
   "cell_type": "code",
   "execution_count": 21,
   "metadata": {},
   "outputs": [
    {
     "data": {
      "text/plain": [
       "[6, 12)     26410\n",
       "[12, 18)    27176\n",
       "[18, 24)    19396\n",
       "[24, 30)    12538\n",
       "[30, 36)     8014\n",
       "[36, 42)     3557\n",
       "[42, 48)     1613\n",
       "[48, 54)     1010\n",
       "[54, 60)      274\n",
       "[60, 66)       12\n",
       "Name: months_bins, dtype: int64"
      ]
     },
     "execution_count": 21,
     "metadata": {},
     "output_type": "execute_result"
    }
   ],
   "source": [
    "df['months_bins'] = pd.cut(df['months'], bins=bins_list, right=False)\n",
    "df['months_bins'].value_counts(sort=False)"
   ]
  },
  {
   "cell_type": "markdown",
   "metadata": {},
   "source": [
    "解約率が全体でならすと、50%というのは高すぎるため、churn_rateが約50％となるように、ランダムサンプリングされたと仮定する。\n",
    "\n",
    "このとき、年齢分布は母数分布の年齢分布とほぼ同じような形状と仮定できる。\n",
    "その場合、このヒストグラムは契約が1年以上経過すると、解約件数が増え、どんどんと解約されていくように捉えることができる。"
   ]
  },
  {
   "cell_type": "markdown",
   "metadata": {},
   "source": [
    "横軸をmonths、縦軸をchurn=1の割合の折れ線グラフを描いてみる"
   ]
  },
  {
   "cell_type": "code",
   "execution_count": 23,
   "metadata": {},
   "outputs": [
    {
     "data": {
      "text/plain": [
       "<AxesSubplot:xlabel='months'>"
      ]
     },
     "execution_count": 23,
     "metadata": {},
     "output_type": "execute_result"
    },
    {
     "data": {
      "image/png": "[encoded data removed]",
      "text/plain": [
       "<Figure size 432x288 with 1 Axes>"
      ]
     },
     "metadata": {
      "needs_background": "light"
     },
     "output_type": "display_data"
    }
   ],
   "source": [
    "df.groupby('months')['churn'].mean().plot(kind='line')"
   ]
  },
  {
   "cell_type": "markdown",
   "metadata": {},
   "source": [
    "契約11~12月で解約率が非常に高くなり、その後なだらかに下がっていく。"
   ]
  },
  {
   "cell_type": "code",
   "execution_count": 22,
   "metadata": {},
   "outputs": [
    {
     "data": {
      "text/plain": [
       "churn\n",
       "0    AxesSubplot(0.125,0.125;0.775x0.755)\n",
       "1    AxesSubplot(0.125,0.125;0.775x0.755)\n",
       "Name: months, dtype: object"
      ]
     },
     "execution_count": 22,
     "metadata": {},
     "output_type": "execute_result"
    },
    {
     "data": {
      "image/png": "[encoded data removed]",
      "text/plain": [
       "<Figure size 432x288 with 1 Axes>"
      ]
     },
     "metadata": {
      "needs_background": "light"
     },
     "output_type": "display_data"
    }
   ],
   "source": [
    "df.groupby('churn')['months'].plot.hist(bins=bins_list, alpha=0.5, legend=True)"
   ]
  },
  {
   "cell_type": "markdown",
   "metadata": {},
   "source": [
    "解約率は契約11ヶ月〜12ヶ月で非常に高くなる傾向があるので、この時期に施策を打ち出すべき。"
   ]
  },
  {
   "cell_type": "code",
   "execution_count": 24,
   "metadata": {},
   "outputs": [
    {
     "data": {
      "text/plain": [
       "months  churn\n",
       "6       0        0.616216\n",
       "        1        0.383784\n",
       "7       0        0.667403\n",
       "        1        0.332597\n",
       "8       0        0.690451\n",
       "                   ...   \n",
       "59      1        0.093750\n",
       "60      0        0.800000\n",
       "        1        0.200000\n",
       "61      0        0.500000\n",
       "        1        0.500000\n",
       "Name: churn, Length: 112, dtype: float64"
      ]
     },
     "execution_count": 24,
     "metadata": {},
     "output_type": "execute_result"
    }
   ],
   "source": [
    "df.groupby('months')['churn'].value_counts(normalize=True, sort=False)"
   ]
  },
  {
   "cell_type": "markdown",
   "metadata": {},
   "source": [
    "#### mou_Mean(平均月間使用時間)"
   ]
  },
  {
   "cell_type": "code",
   "execution_count": 25,
   "metadata": {},
   "outputs": [
    {
     "name": "stdout",
     "output_type": "stream",
     "text": [
      "平均\n"
     ]
    },
    {
     "data": {
      "text/plain": [
       "churn\n",
       "0    543.206895\n",
       "1    483.306417\n",
       "Name: mou_Mean, dtype: float64"
      ]
     },
     "metadata": {},
     "output_type": "display_data"
    },
    {
     "name": "stdout",
     "output_type": "stream",
     "text": [
      "------------------------------\n",
      "中央値\n"
     ]
    },
    {
     "data": {
      "text/plain": [
       "churn\n",
       "0    380.50\n",
       "1    329.75\n",
       "Name: mou_Mean, dtype: float64"
      ]
     },
     "metadata": {},
     "output_type": "display_data"
    },
    {
     "name": "stdout",
     "output_type": "stream",
     "text": [
      "------------------------------\n",
      "欠損値の数： 357\n",
      "------------------------------\n",
      "統計量\n"
     ]
    },
    {
     "data": {
      "text/plain": [
       "count    99643.000000\n",
       "mean       513.559937\n",
       "std        525.168140\n",
       "min          0.000000\n",
       "25%        150.750000\n",
       "50%        355.500000\n",
       "75%        703.000000\n",
       "max      12206.750000\n",
       "Name: mou_Mean, dtype: float64"
      ]
     },
     "metadata": {},
     "output_type": "display_data"
    },
    {
     "name": "stdout",
     "output_type": "stream",
     "text": [
      "------------------------------\n"
     ]
    }
   ],
   "source": [
    "feature_describe(df, 'mou_Mean')"
   ]
  },
  {
   "cell_type": "markdown",
   "metadata": {},
   "source": [
    "* 月間使用時間が短い人ほど解約しやすい、ということがわかる。  \n",
    "* 欠損値もある程度ある"
   ]
  },
  {
   "cell_type": "code",
   "execution_count": 201,
   "metadata": {},
   "outputs": [
    {
     "data": {
      "text/plain": [
       "churn\n",
       "0    AxesSubplot(0.125,0.125;0.775x0.755)\n",
       "1    AxesSubplot(0.125,0.125;0.775x0.755)\n",
       "Name: mou_Mean, dtype: object"
      ]
     },
     "execution_count": 201,
     "metadata": {},
     "output_type": "execute_result"
    },
    {
     "data": {
      "image/png": "[encoded data removed]",
      "text/plain": [
       "<Figure size 432x288 with 1 Axes>"
      ]
     },
     "metadata": {
      "needs_background": "light"
     },
     "output_type": "display_data"
    }
   ],
   "source": [
    "df.groupby([\"churn\"])[\"mou_Mean\"].plot.hist(bins=20, alpha=0.5, legend=True)"
   ]
  },
  {
   "cell_type": "markdown",
   "metadata": {},
   "source": [
    "#### change_mou(対前3ヶ月との月間使用時間の変化)"
   ]
  },
  {
   "cell_type": "code",
   "execution_count": 26,
   "metadata": {},
   "outputs": [
    {
     "name": "stdout",
     "output_type": "stream",
     "text": [
      "平均\n"
     ]
    },
    {
     "data": {
      "text/plain": [
       "churn\n",
       "0    -5.344265\n",
       "1   -22.759003\n",
       "Name: change_mou, dtype: float64"
      ]
     },
     "metadata": {},
     "output_type": "display_data"
    },
    {
     "name": "stdout",
     "output_type": "stream",
     "text": [
      "------------------------------\n",
      "中央値\n"
     ]
    },
    {
     "data": {
      "text/plain": [
       "churn\n",
       "0    -3.0\n",
       "1   -10.0\n",
       "Name: change_mou, dtype: float64"
      ]
     },
     "metadata": {},
     "output_type": "display_data"
    },
    {
     "name": "stdout",
     "output_type": "stream",
     "text": [
      "------------------------------\n",
      "欠損値の数： 891\n",
      "------------------------------\n",
      "統計量\n"
     ]
    },
    {
     "data": {
      "text/plain": [
       "count    99109.000000\n",
       "mean       -13.933818\n",
       "std        276.087509\n",
       "min      -3875.000000\n",
       "25%        -87.000000\n",
       "50%         -6.250000\n",
       "75%         63.000000\n",
       "max      31219.250000\n",
       "Name: change_mou, dtype: float64"
      ]
     },
     "metadata": {},
     "output_type": "display_data"
    },
    {
     "name": "stdout",
     "output_type": "stream",
     "text": [
      "------------------------------\n"
     ]
    }
   ],
   "source": [
    "feature_describe(df, 'change_mou')"
   ]
  },
  {
   "cell_type": "markdown",
   "metadata": {},
   "source": [
    "* 欠損値が891もある。\n",
    "* 全体的に利用時間は減っているが、特に解約する人はその傾向が強い"
   ]
  },
  {
   "cell_type": "markdown",
   "metadata": {},
   "source": [
    "#### totmrc_Mean（課金額）"
   ]
  },
  {
   "cell_type": "code",
   "execution_count": 30,
   "metadata": {},
   "outputs": [
    {
     "name": "stdout",
     "output_type": "stream",
     "text": [
      "平均\n"
     ]
    },
    {
     "data": {
      "text/plain": [
       "churn\n",
       "0    47.782378\n",
       "1    44.543091\n",
       "Name: totmrc_Mean, dtype: float64"
      ]
     },
     "metadata": {},
     "output_type": "display_data"
    },
    {
     "name": "stdout",
     "output_type": "stream",
     "text": [
      "------------------------------\n",
      "中央値\n"
     ]
    },
    {
     "data": {
      "text/plain": [
       "churn\n",
       "0    44.9900\n",
       "1    43.4175\n",
       "Name: totmrc_Mean, dtype: float64"
      ]
     },
     "metadata": {},
     "output_type": "display_data"
    },
    {
     "name": "stdout",
     "output_type": "stream",
     "text": [
      "------------------------------\n",
      "欠損値の数： 357\n",
      "------------------------------\n",
      "統計量\n"
     ]
    },
    {
     "data": {
      "text/plain": [
       "count    99643.000000\n",
       "mean        46.179136\n",
       "std         23.623489\n",
       "min        -26.915000\n",
       "25%         30.000000\n",
       "50%         44.990000\n",
       "75%         59.990000\n",
       "max        409.990000\n",
       "Name: totmrc_Mean, dtype: float64"
      ]
     },
     "metadata": {},
     "output_type": "display_data"
    },
    {
     "name": "stdout",
     "output_type": "stream",
     "text": [
      "------------------------------\n"
     ]
    }
   ],
   "source": [
    "feature_describe(df, 'totmrc_Mean')"
   ]
  },
  {
   "cell_type": "code",
   "execution_count": 229,
   "metadata": {},
   "outputs": [
    {
     "data": {
      "text/plain": [
       "churn\n",
       "0    AxesSubplot(0.125,0.125;0.775x0.755)\n",
       "1    AxesSubplot(0.125,0.125;0.775x0.755)\n",
       "Name: totmrc_Mean, dtype: object"
      ]
     },
     "execution_count": 229,
     "metadata": {},
     "output_type": "execute_result"
    },
    {
     "data": {
      "image/png": "[encoded data removed]",
      "text/plain": [
       "<Figure size 432x288 with 1 Axes>"
      ]
     },
     "metadata": {
      "needs_background": "light"
     },
     "output_type": "display_data"
    }
   ],
   "source": [
    "df.groupby([\"churn\"])[\"totmrc_Mean\"].plot.hist(bins=20, alpha=0.5, legend=True)"
   ]
  },
  {
   "cell_type": "code",
   "execution_count": 235,
   "metadata": {},
   "outputs": [
    {
     "data": {
      "text/plain": [
       "(-26.916, 10.0]     7490\n",
       "(10.0, 18.52]       2475\n",
       "(18.52, 29.99]     12981\n",
       "(29.99, 30.0]       5873\n",
       "(30.0, 32.49]       2354\n",
       "(32.49, 37.408]     3711\n",
       "(37.408, 39.99]     8808\n",
       "(39.99, 41.28]      1240\n",
       "(41.28, 44.99]     13470\n",
       "(44.99, 47.005]     1385\n",
       "(47.005, 49.99]     6429\n",
       "(49.99, 52.49]      3758\n",
       "(52.49, 59.99]     11948\n",
       "(59.99, 69.99]      6334\n",
       "(69.99, 74.99]      1491\n",
       "(74.99, 84.99]      5029\n",
       "(84.99, 409.99]     4867\n",
       "Name: totmrc_Mean_bins, dtype: int64"
      ]
     },
     "execution_count": 235,
     "metadata": {},
     "output_type": "execute_result"
    }
   ],
   "source": [
    "df['totmrc_Mean_bins'] = pd.qcut(df['totmrc_Mean'], 20, duplicates='drop')\n",
    "df['totmrc_Mean_bins'].value_counts(sort=False)"
   ]
  },
  {
   "cell_type": "code",
   "execution_count": 238,
   "metadata": {},
   "outputs": [
    {
     "data": {
      "text/plain": [
       "totmrc_Mean_bins  churn\n",
       "(-26.916, 10.0]   0        0.451135\n",
       "                  1        0.548865\n",
       "(10.0, 18.52]     0        0.512727\n",
       "                  1        0.487273\n",
       "(18.52, 29.99]    0        0.433711\n",
       "                  1        0.566289\n",
       "(29.99, 30.0]     0        0.459731\n",
       "                  1        0.540269\n",
       "(30.0, 32.49]     0        0.461342\n",
       "                  1        0.538658\n",
       "(32.49, 37.408]   0        0.468068\n",
       "                  1        0.531932\n",
       "(37.408, 39.99]   0        0.502157\n",
       "                  1        0.497843\n",
       "(39.99, 41.28]    0        0.565323\n",
       "                  1        0.434677\n",
       "(41.28, 44.99]    0        0.549443\n",
       "                  1        0.450557\n",
       "(44.99, 47.005]   0        0.498195\n",
       "                  1        0.501805\n",
       "(47.005, 49.99]   0        0.520765\n",
       "                  1        0.479235\n",
       "(49.99, 52.49]    0        0.501330\n",
       "                  1        0.498670\n",
       "(52.49, 59.99]    0        0.509709\n",
       "                  1        0.490291\n",
       "(59.99, 69.99]    0        0.564414\n",
       "                  1        0.435586\n",
       "(69.99, 74.99]    0        0.549296\n",
       "                  1        0.450704\n",
       "(74.99, 84.99]    0        0.556174\n",
       "                  1        0.443826\n",
       "(84.99, 409.99]   0        0.574687\n",
       "                  1        0.425313\n",
       "Name: churn, dtype: float64"
      ]
     },
     "execution_count": 238,
     "metadata": {},
     "output_type": "execute_result"
    }
   ],
   "source": [
    "df.groupby('totmrc_Mean_bins')['churn'].value_counts(normalize=True, sort=False)"
   ]
  },
  {
   "cell_type": "code",
   "execution_count": 32,
   "metadata": {},
   "outputs": [
    {
     "data": {
      "text/plain": [
       "0    0.533131\n",
       "1    0.466869\n",
       "Name: churn, dtype: float64"
      ]
     },
     "execution_count": 32,
     "metadata": {},
     "output_type": "execute_result"
    }
   ],
   "source": [
    "df[df['totmrc_Mean'] > 37.408]['churn'].value_counts(normalize=True)"
   ]
  },
  {
   "cell_type": "code",
   "execution_count": 33,
   "metadata": {},
   "outputs": [
    {
     "data": {
      "text/plain": [
       "34.884"
      ]
     },
     "execution_count": 33,
     "metadata": {},
     "output_type": "execute_result"
    }
   ],
   "source": [
    "from scipy import stats\n",
    "# inverse of quantile\n",
    "stats.percentileofscore(df['totmrc_Mean'], 37.408)"
   ]
  },
  {
   "cell_type": "markdown",
   "metadata": {},
   "source": [
    "月間課金額が上位約1/3の顧客はchrun=1の割合が0.467と低い傾向が見られる"
   ]
  },
  {
   "cell_type": "markdown",
   "metadata": {},
   "source": [
    "#### change_rev（利用料金の変化）"
   ]
  },
  {
   "cell_type": "code",
   "execution_count": 34,
   "metadata": {},
   "outputs": [
    {
     "name": "stdout",
     "output_type": "stream",
     "text": [
      "平均\n"
     ]
    },
    {
     "data": {
      "text/plain": [
       "churn\n",
       "0   -1.410195\n",
       "1   -0.621263\n",
       "Name: change_rev, dtype: float64"
      ]
     },
     "metadata": {},
     "output_type": "display_data"
    },
    {
     "name": "stdout",
     "output_type": "stream",
     "text": [
      "------------------------------\n",
      "中央値\n"
     ]
    },
    {
     "data": {
      "text/plain": [
       "churn\n",
       "0   -0.2925\n",
       "1   -0.3150\n",
       "Name: change_rev, dtype: float64"
      ]
     },
     "metadata": {},
     "output_type": "display_data"
    },
    {
     "name": "stdout",
     "output_type": "stream",
     "text": [
      "------------------------------\n",
      "欠損値の数： 891\n",
      "------------------------------\n",
      "統計量\n"
     ]
    },
    {
     "data": {
      "text/plain": [
       "count    99109.000000\n",
       "mean        -1.021067\n",
       "std         50.363209\n",
       "min      -1107.740000\n",
       "25%         -7.365000\n",
       "50%         -0.315000\n",
       "75%          1.642500\n",
       "max       9963.657500\n",
       "Name: change_rev, dtype: float64"
      ]
     },
     "metadata": {},
     "output_type": "display_data"
    },
    {
     "name": "stdout",
     "output_type": "stream",
     "text": [
      "------------------------------\n"
     ]
    }
   ],
   "source": [
    "feature_describe(df, 'change_rev')"
   ]
  },
  {
   "cell_type": "code",
   "execution_count": 35,
   "metadata": {},
   "outputs": [
    {
     "data": {
      "text/plain": [
       "<AxesSubplot:xlabel='change_rev', ylabel='Density'>"
      ]
     },
     "execution_count": 35,
     "metadata": {},
     "output_type": "execute_result"
    },
    {
     "data": {
      "image/png": "[encoded data removed]",
      "text/plain": [
       "<Figure size 432x288 with 1 Axes>"
      ]
     },
     "metadata": {
      "needs_background": "light"
     },
     "output_type": "display_data"
    }
   ],
   "source": [
    "sns.distplot(df['change_rev'])"
   ]
  },
  {
   "cell_type": "markdown",
   "metadata": {},
   "source": [
    "数値の幅が広すぎて、グラフが見づらいため、データの上下5%を外して可視化してみる。"
   ]
  },
  {
   "cell_type": "code",
   "execution_count": 36,
   "metadata": {},
   "outputs": [
    {
     "data": {
      "text/plain": [
       "47315   -1107.740\n",
       "76358    -851.105\n",
       "13041    -768.575\n",
       "28626    -694.265\n",
       "17142    -673.355\n",
       "           ...   \n",
       "99995         NaN\n",
       "99996         NaN\n",
       "99997         NaN\n",
       "99998         NaN\n",
       "99999         NaN\n",
       "Name: change_rev, Length: 100000, dtype: float64"
      ]
     },
     "execution_count": 36,
     "metadata": {},
     "output_type": "execute_result"
    }
   ],
   "source": [
    "df['change_rev'].sort_values()"
   ]
  },
  {
   "cell_type": "markdown",
   "metadata": {},
   "source": [
    "外れ値を除く"
   ]
  },
  {
   "cell_type": "code",
   "execution_count": 38,
   "metadata": {},
   "outputs": [
    {
     "name": "stdout",
     "output_type": "stream",
     "text": [
      "97.5%分位点: 78.45450000000005\n",
      "0.25%分位点: -70.513\n"
     ]
    }
   ],
   "source": [
    "q_975 = df['change_rev'].quantile(0.975)\n",
    "q_025 = df['change_rev'].quantile(0.025)\n",
    "print('97.5%分位点:', q_975)\n",
    "print('0.25%分位点:', q_025)"
   ]
  },
  {
   "cell_type": "code",
   "execution_count": 39,
   "metadata": {},
   "outputs": [
    {
     "data": {
      "text/html": [
       "<div>\n",
       "<style scoped>\n",
       "    .dataframe tbody tr th:only-of-type {\n",
       "        vertical-align: middle;\n",
       "    }\n",
       "\n",
       "    .dataframe tbody tr th {\n",
       "        vertical-align: top;\n",
       "    }\n",
       "\n",
       "    .dataframe thead th {\n",
       "        text-align: right;\n",
       "    }\n",
       "</style>\n",
       "<table border=\"1\" class=\"dataframe\">\n",
       "  <thead>\n",
       "    <tr style=\"text-align: right;\">\n",
       "      <th></th>\n",
       "      <th>change_rev</th>\n",
       "      <th>churn</th>\n",
       "    </tr>\n",
       "  </thead>\n",
       "  <tbody>\n",
       "    <tr>\n",
       "      <th>0</th>\n",
       "      <td>-18.9975</td>\n",
       "      <td>1</td>\n",
       "    </tr>\n",
       "    <tr>\n",
       "      <th>1</th>\n",
       "      <td>50.9875</td>\n",
       "      <td>0</td>\n",
       "    </tr>\n",
       "    <tr>\n",
       "      <th>2</th>\n",
       "      <td>0.0000</td>\n",
       "      <td>1</td>\n",
       "    </tr>\n",
       "    <tr>\n",
       "      <th>3</th>\n",
       "      <td>0.0000</td>\n",
       "      <td>0</td>\n",
       "    </tr>\n",
       "    <tr>\n",
       "      <th>4</th>\n",
       "      <td>0.0000</td>\n",
       "      <td>0</td>\n",
       "    </tr>\n",
       "  </tbody>\n",
       "</table>\n",
       "</div>"
      ],
      "text/plain": [
       "   change_rev  churn\n",
       "0    -18.9975      1\n",
       "1     50.9875      0\n",
       "2      0.0000      1\n",
       "3      0.0000      0\n",
       "4      0.0000      0"
      ]
     },
     "execution_count": 39,
     "metadata": {},
     "output_type": "execute_result"
    }
   ],
   "source": [
    "new_df = df[(df['change_rev'] < q_975) & (df['change_rev'] > q_025)][['change_rev', 'churn']]\n",
    "new_df.head()"
   ]
  },
  {
   "cell_type": "code",
   "execution_count": 40,
   "metadata": {},
   "outputs": [
    {
     "data": {
      "text/plain": [
       "<AxesSubplot:xlabel='change_rev', ylabel='Density'>"
      ]
     },
     "execution_count": 40,
     "metadata": {},
     "output_type": "execute_result"
    },
    {
     "data": {
      "image/png": "[encoded data removed]",
      "text/plain": [
       "<Figure size 432x288 with 1 Axes>"
      ]
     },
     "metadata": {
      "needs_background": "light"
     },
     "output_type": "display_data"
    }
   ],
   "source": [
    "sns.distplot(new_df['change_rev'])"
   ]
  },
  {
   "cell_type": "code",
   "execution_count": 41,
   "metadata": {},
   "outputs": [
    {
     "data": {
      "text/plain": [
       "churn\n",
       "0    AxesSubplot(0.125,0.125;0.775x0.755)\n",
       "1    AxesSubplot(0.125,0.125;0.775x0.755)\n",
       "Name: change_rev, dtype: object"
      ]
     },
     "execution_count": 41,
     "metadata": {},
     "output_type": "execute_result"
    },
    {
     "data": {
      "image/png": "[encoded data removed]",
      "text/plain": [
       "<Figure size 432x288 with 1 Axes>"
      ]
     },
     "metadata": {
      "needs_background": "light"
     },
     "output_type": "display_data"
    }
   ],
   "source": [
    "new_df.groupby([\"churn\"])[\"change_rev\"].plot.hist(bins=20, alpha=0.5, legend=True)"
   ]
  },
  {
   "cell_type": "markdown",
   "metadata": {},
   "source": [
    "#### hnd_price(現在の携帯料金)"
   ]
  },
  {
   "cell_type": "code",
   "execution_count": 42,
   "metadata": {},
   "outputs": [
    {
     "name": "stdout",
     "output_type": "stream",
     "text": [
      "平均\n"
     ]
    },
    {
     "data": {
      "text/plain": [
       "churn\n",
       "0    108.129344\n",
       "1     95.539523\n",
       "Name: hnd_price, dtype: float64"
      ]
     },
     "metadata": {},
     "output_type": "display_data"
    },
    {
     "name": "stdout",
     "output_type": "stream",
     "text": [
      "------------------------------\n",
      "中央値\n"
     ]
    },
    {
     "data": {
      "text/plain": [
       "churn\n",
       "0    129.98999\n",
       "1     99.98999\n",
       "Name: hnd_price, dtype: float64"
      ]
     },
     "metadata": {},
     "output_type": "display_data"
    },
    {
     "name": "stdout",
     "output_type": "stream",
     "text": [
      "------------------------------\n",
      "欠損値の数： 847\n",
      "------------------------------\n",
      "統計量\n"
     ]
    },
    {
     "data": {
      "text/plain": [
       "count    99153.000000\n",
       "mean       101.875763\n",
       "std         61.005671\n",
       "min          9.989998\n",
       "25%         29.989990\n",
       "50%         99.989990\n",
       "75%        149.989990\n",
       "max        499.989990\n",
       "Name: hnd_price, dtype: float64"
      ]
     },
     "metadata": {},
     "output_type": "display_data"
    },
    {
     "name": "stdout",
     "output_type": "stream",
     "text": [
      "------------------------------\n"
     ]
    }
   ],
   "source": [
    "feature_describe(df, 'hnd_price')"
   ]
  },
  {
   "cell_type": "code",
   "execution_count": 43,
   "metadata": {},
   "outputs": [
    {
     "data": {
      "text/plain": [
       "0    536\n",
       "1    311\n",
       "Name: churn, dtype: int64"
      ]
     },
     "execution_count": 43,
     "metadata": {},
     "output_type": "execute_result"
    }
   ],
   "source": [
    "df[df['hnd_price'].isnull()]['churn'].value_counts()"
   ]
  },
  {
   "cell_type": "code",
   "execution_count": 44,
   "metadata": {},
   "outputs": [
    {
     "data": {
      "text/plain": [
       "0.36717827626918537"
      ]
     },
     "execution_count": 44,
     "metadata": {},
     "output_type": "execute_result"
    }
   ],
   "source": [
    "311/847"
   ]
  },
  {
   "cell_type": "markdown",
   "metadata": {},
   "source": [
    "* 解約者は解約しない人に対して明らかに現在の携帯料金が安価\n",
    "* 携帯料金がわからない人の解約率は0.367と低い。\n",
    "* 仮説：携帯料金がわからない＝他社から変更した人。他社から変更した人は携帯を変えにくい。"
   ]
  },
  {
   "cell_type": "markdown",
   "metadata": {},
   "source": [
    "#### eqpdays（現在の機器の日数）"
   ]
  },
  {
   "cell_type": "code",
   "execution_count": 48,
   "metadata": {},
   "outputs": [
    {
     "name": "stdout",
     "output_type": "stream",
     "text": [
      "平均\n"
     ]
    },
    {
     "data": {
      "text/plain": [
       "churn\n",
       "0    363.280925\n",
       "1    421.089524\n",
       "Name: eqpdays, dtype: float64"
      ]
     },
     "metadata": {},
     "output_type": "display_data"
    },
    {
     "name": "stdout",
     "output_type": "stream",
     "text": [
      "------------------------------\n",
      "中央値\n"
     ]
    },
    {
     "data": {
      "text/plain": [
       "churn\n",
       "0    310.0\n",
       "1    366.0\n",
       "Name: eqpdays, dtype: float64"
      ]
     },
     "metadata": {},
     "output_type": "display_data"
    },
    {
     "name": "stdout",
     "output_type": "stream",
     "text": [
      "------------------------------\n",
      "欠損値の数： 1\n",
      "------------------------------\n",
      "統計量\n"
     ]
    },
    {
     "data": {
      "text/plain": [
       "count    99999.000000\n",
       "mean       391.932309\n",
       "std        256.482193\n",
       "min         -5.000000\n",
       "25%        212.000000\n",
       "50%        342.000000\n",
       "75%        530.000000\n",
       "max       1823.000000\n",
       "Name: eqpdays, dtype: float64"
      ]
     },
     "metadata": {},
     "output_type": "display_data"
    },
    {
     "name": "stdout",
     "output_type": "stream",
     "text": [
      "------------------------------\n"
     ]
    }
   ],
   "source": [
    "feature_describe(df, 'eqpdays')"
   ]
  },
  {
   "cell_type": "markdown",
   "metadata": {},
   "source": [
    "* 欠損値はほとんどない。\n",
    "* 解約者は現在の機器の日数が高い傾向にある。\n",
    "* 仮説：機器の変更の際に解約する場合が多い"
   ]
  },
  {
   "cell_type": "code",
   "execution_count": 49,
   "metadata": {},
   "outputs": [],
   "source": [
    "df['days'] = df['months'] * 30\n",
    "df[['days', 'eqpdays']].head(20)\n",
    "df['days-eqpdays'] = abs(df['days'] - df['eqpdays'])"
   ]
  },
  {
   "cell_type": "code",
   "execution_count": 51,
   "metadata": {},
   "outputs": [
    {
     "name": "stdout",
     "output_type": "stream",
     "text": [
      "平均\n"
     ]
    },
    {
     "data": {
      "text/plain": [
       "churn\n",
       "0    200.057418\n",
       "1    155.148804\n",
       "Name: days-eqpdays, dtype: float64"
      ]
     },
     "metadata": {},
     "output_type": "display_data"
    },
    {
     "name": "stdout",
     "output_type": "stream",
     "text": [
      "------------------------------\n",
      "中央値\n"
     ]
    },
    {
     "data": {
      "text/plain": [
       "churn\n",
       "0    18.0\n",
       "1    17.0\n",
       "Name: days-eqpdays, dtype: float64"
      ]
     },
     "metadata": {},
     "output_type": "display_data"
    },
    {
     "name": "stdout",
     "output_type": "stream",
     "text": [
      "------------------------------\n",
      "欠損値の数： 1\n",
      "------------------------------\n",
      "統計量\n"
     ]
    },
    {
     "data": {
      "text/plain": [
       "count    99999.000000\n",
       "mean       177.799588\n",
       "std        276.086766\n",
       "min          0.000000\n",
       "25%          7.000000\n",
       "50%         17.000000\n",
       "75%        289.000000\n",
       "max       1760.000000\n",
       "Name: days-eqpdays, dtype: float64"
      ]
     },
     "metadata": {},
     "output_type": "display_data"
    },
    {
     "name": "stdout",
     "output_type": "stream",
     "text": [
      "------------------------------\n"
     ]
    }
   ],
   "source": [
    "feature_describe(df, 'days-eqpdays')"
   ]
  },
  {
   "cell_type": "markdown",
   "metadata": {},
   "source": [
    "#### asl_flagY(アカウントの使用限度額)\n",
    "asl_flagはYesかNoの２択。"
   ]
  },
  {
   "cell_type": "code",
   "execution_count": 53,
   "metadata": {},
   "outputs": [
    {
     "data": {
      "text/plain": [
       "asl_flag  churn\n",
       "N         1        43858\n",
       "          0        42206\n",
       "Y         0         8232\n",
       "          1         5704\n",
       "Name: churn, dtype: int64"
      ]
     },
     "execution_count": 53,
     "metadata": {},
     "output_type": "execute_result"
    }
   ],
   "source": [
    "df.groupby('asl_flag')['churn'].value_counts()"
   ]
  },
  {
   "cell_type": "code",
   "execution_count": 54,
   "metadata": {},
   "outputs": [
    {
     "name": "stdout",
     "output_type": "stream",
     "text": [
      "asl_flg = No の解約率: 0.5095975088306377\n",
      "asl_flg = Yes の解約率: 0.40929965556831227\n"
     ]
    }
   ],
   "source": [
    "print('asl_flg = No の解約率:', 43858 / (42206 + 43858))\n",
    "print('asl_flg = Yes の解約率:', 5704 / (8232 + 5704))"
   ]
  },
  {
   "cell_type": "markdown",
   "metadata": {},
   "source": [
    "* アカウントの使用限度額がある人の方が、解約率が低い"
   ]
  },
  {
   "cell_type": "markdown",
   "metadata": {},
   "source": [
    "#### lor（居住年数）"
   ]
  },
  {
   "cell_type": "code",
   "execution_count": 55,
   "metadata": {},
   "outputs": [
    {
     "name": "stdout",
     "output_type": "stream",
     "text": [
      "平均\n"
     ]
    },
    {
     "data": {
      "text/plain": [
       "churn\n",
       "0    6.383884\n",
       "1    5.960302\n",
       "Name: lor, dtype: float64"
      ]
     },
     "metadata": {},
     "output_type": "display_data"
    },
    {
     "name": "stdout",
     "output_type": "stream",
     "text": [
      "------------------------------\n",
      "中央値\n"
     ]
    },
    {
     "data": {
      "text/plain": [
       "churn\n",
       "0    5.0\n",
       "1    5.0\n",
       "Name: lor, dtype: float64"
      ]
     },
     "metadata": {},
     "output_type": "display_data"
    },
    {
     "name": "stdout",
     "output_type": "stream",
     "text": [
      "------------------------------\n",
      "欠損値の数： 30190\n",
      "------------------------------\n",
      "統計量\n"
     ]
    },
    {
     "data": {
      "text/plain": [
       "count    69810.000000\n",
       "mean         6.177238\n",
       "std          4.735267\n",
       "min          0.000000\n",
       "25%          2.000000\n",
       "50%          5.000000\n",
       "75%          9.000000\n",
       "max         15.000000\n",
       "Name: lor, dtype: float64"
      ]
     },
     "metadata": {},
     "output_type": "display_data"
    },
    {
     "name": "stdout",
     "output_type": "stream",
     "text": [
      "------------------------------\n"
     ]
    }
   ],
   "source": [
    "feature_describe(df, 'lor')"
   ]
  },
  {
   "cell_type": "markdown",
   "metadata": {},
   "source": [
    "居住年数が長いほど比較的契約率が少ない"
   ]
  },
  {
   "cell_type": "code",
   "execution_count": 287,
   "metadata": {},
   "outputs": [
    {
     "data": {
      "text/plain": [
       "1    15505\n",
       "0    14685\n",
       "Name: churn, dtype: int64"
      ]
     },
     "execution_count": 287,
     "metadata": {},
     "output_type": "execute_result"
    }
   ],
   "source": [
    "df[df['lor'].isnull()]['churn'].value_counts()"
   ]
  },
  {
   "cell_type": "code",
   "execution_count": 288,
   "metadata": {},
   "outputs": [
    {
     "data": {
      "text/plain": [
       "0    35753\n",
       "1    34057\n",
       "Name: churn, dtype: int64"
      ]
     },
     "execution_count": 288,
     "metadata": {},
     "output_type": "execute_result"
    }
   ],
   "source": [
    "df[df['lor'].notnull()]['churn'].value_counts()"
   ]
  },
  {
   "cell_type": "markdown",
   "metadata": {},
   "source": [
    "このデータが欠損しているかどうかは解約率がそこまで影響してなさそう。"
   ]
  },
  {
   "cell_type": "markdown",
   "metadata": {},
   "source": [
    "#### avgqty（顧客生涯の平均月間通話回数）"
   ]
  },
  {
   "cell_type": "code",
   "execution_count": 56,
   "metadata": {},
   "outputs": [
    {
     "name": "stdout",
     "output_type": "stream",
     "text": [
      "平均\n"
     ]
    },
    {
     "data": {
      "text/plain": [
       "churn\n",
       "0    177.505869\n",
       "1    169.533305\n",
       "Name: avgqty, dtype: float64"
      ]
     },
     "metadata": {},
     "output_type": "display_data"
    },
    {
     "name": "stdout",
     "output_type": "stream",
     "text": [
      "------------------------------\n",
      "中央値\n"
     ]
    },
    {
     "data": {
      "text/plain": [
       "churn\n",
       "0    128.50\n",
       "1    126.53\n",
       "Name: avgqty, dtype: float64"
      ]
     },
     "metadata": {},
     "output_type": "display_data"
    },
    {
     "name": "stdout",
     "output_type": "stream",
     "text": [
      "------------------------------\n",
      "欠損値の数： 0\n",
      "------------------------------\n",
      "統計量\n"
     ]
    },
    {
     "data": {
      "text/plain": [
       "count    100000.000000\n",
       "mean        173.554507\n",
       "std         167.824576\n",
       "min           0.000000\n",
       "25%          64.090000\n",
       "50%         127.500000\n",
       "75%         228.570000\n",
       "max        3017.110000\n",
       "Name: avgqty, dtype: float64"
      ]
     },
     "metadata": {},
     "output_type": "display_data"
    },
    {
     "name": "stdout",
     "output_type": "stream",
     "text": [
      "------------------------------\n"
     ]
    }
   ],
   "source": [
    "feature_describe(df, 'avgqty')"
   ]
  },
  {
   "cell_type": "code",
   "execution_count": 57,
   "metadata": {},
   "outputs": [
    {
     "data": {
      "text/plain": [
       "churn\n",
       "0    AxesSubplot(0.125,0.125;0.775x0.755)\n",
       "1    AxesSubplot(0.125,0.125;0.775x0.755)\n",
       "Name: avgqty, dtype: object"
      ]
     },
     "execution_count": 57,
     "metadata": {},
     "output_type": "execute_result"
    },
    {
     "data": {
      "image/png": "[encoded data removed]",
      "text/plain": [
       "<Figure size 432x288 with 1 Axes>"
      ]
     },
     "metadata": {
      "needs_background": "light"
     },
     "output_type": "display_data"
    }
   ],
   "source": [
    "df.groupby([\"churn\"])[\"avgqty\"].plot.hist(bins=20, alpha=0.5, legend=True)"
   ]
  },
  {
   "cell_type": "markdown",
   "metadata": {},
   "source": [
    "非常に通話回数の多いデータがあるので、外れ値を外して見てみる。"
   ]
  },
  {
   "cell_type": "code",
   "execution_count": 58,
   "metadata": {},
   "outputs": [
    {
     "data": {
      "text/html": [
       "<div>\n",
       "<style scoped>\n",
       "    .dataframe tbody tr th:only-of-type {\n",
       "        vertical-align: middle;\n",
       "    }\n",
       "\n",
       "    .dataframe tbody tr th {\n",
       "        vertical-align: top;\n",
       "    }\n",
       "\n",
       "    .dataframe thead th {\n",
       "        text-align: right;\n",
       "    }\n",
       "</style>\n",
       "<table border=\"1\" class=\"dataframe\">\n",
       "  <thead>\n",
       "    <tr style=\"text-align: right;\">\n",
       "      <th></th>\n",
       "      <th>avgqty</th>\n",
       "      <th>churn</th>\n",
       "    </tr>\n",
       "  </thead>\n",
       "  <tbody>\n",
       "    <tr>\n",
       "      <th>0</th>\n",
       "      <td>32.69</td>\n",
       "      <td>1</td>\n",
       "    </tr>\n",
       "    <tr>\n",
       "      <th>1</th>\n",
       "      <td>265.89</td>\n",
       "      <td>0</td>\n",
       "    </tr>\n",
       "    <tr>\n",
       "      <th>2</th>\n",
       "      <td>140.86</td>\n",
       "      <td>1</td>\n",
       "    </tr>\n",
       "    <tr>\n",
       "      <th>3</th>\n",
       "      <td>30.81</td>\n",
       "      <td>0</td>\n",
       "    </tr>\n",
       "    <tr>\n",
       "      <th>4</th>\n",
       "      <td>79.50</td>\n",
       "      <td>0</td>\n",
       "    </tr>\n",
       "  </tbody>\n",
       "</table>\n",
       "</div>"
      ],
      "text/plain": [
       "   avgqty  churn\n",
       "0   32.69      1\n",
       "1  265.89      0\n",
       "2  140.86      1\n",
       "3   30.81      0\n",
       "4   79.50      0"
      ]
     },
     "execution_count": 58,
     "metadata": {},
     "output_type": "execute_result"
    }
   ],
   "source": [
    "q_95 = df['avgqty'].quantile(0.95)\n",
    "new_df2 = df[df['avgqty'] < q_95][['avgqty', 'churn']]\n",
    "new_df2.head()"
   ]
  },
  {
   "cell_type": "code",
   "execution_count": 59,
   "metadata": {},
   "outputs": [
    {
     "data": {
      "text/plain": [
       "churn\n",
       "0    AxesSubplot(0.125,0.125;0.775x0.755)\n",
       "1    AxesSubplot(0.125,0.125;0.775x0.755)\n",
       "Name: avgqty, dtype: object"
      ]
     },
     "execution_count": 59,
     "metadata": {},
     "output_type": "execute_result"
    },
    {
     "data": {
      "image/png": "[encoded data removed]",
      "text/plain": [
       "<Figure size 432x288 with 1 Axes>"
      ]
     },
     "metadata": {
      "needs_background": "light"
     },
     "output_type": "display_data"
    }
   ],
   "source": [
    "new_df2.groupby([\"churn\"])[\"avgqty\"].plot.hist(bins=20, alpha=0.5, legend=True)\n"
   ]
  },
  {
   "cell_type": "markdown",
   "metadata": {},
   "source": [
    "#### uniqsubs（世帯内の契約数）"
   ]
  },
  {
   "cell_type": "code",
   "execution_count": 60,
   "metadata": {},
   "outputs": [
    {
     "name": "stdout",
     "output_type": "stream",
     "text": [
      "平均\n"
     ]
    },
    {
     "data": {
      "text/plain": [
       "churn\n",
       "0    1.505631\n",
       "1    1.591401\n",
       "Name: uniqsubs, dtype: float64"
      ]
     },
     "metadata": {},
     "output_type": "display_data"
    },
    {
     "name": "stdout",
     "output_type": "stream",
     "text": [
      "------------------------------\n",
      "中央値\n"
     ]
    },
    {
     "data": {
      "text/plain": [
       "churn\n",
       "0    1\n",
       "1    1\n",
       "Name: uniqsubs, dtype: int64"
      ]
     },
     "metadata": {},
     "output_type": "display_data"
    },
    {
     "name": "stdout",
     "output_type": "stream",
     "text": [
      "------------------------------\n",
      "欠損値の数： 0\n",
      "------------------------------\n",
      "統計量\n"
     ]
    },
    {
     "data": {
      "text/plain": [
       "count    100000.000000\n",
       "mean          1.548140\n",
       "std           1.075255\n",
       "min           1.000000\n",
       "25%           1.000000\n",
       "50%           1.000000\n",
       "75%           2.000000\n",
       "max         196.000000\n",
       "Name: uniqsubs, dtype: float64"
      ]
     },
     "metadata": {},
     "output_type": "display_data"
    },
    {
     "name": "stdout",
     "output_type": "stream",
     "text": [
      "------------------------------\n"
     ]
    }
   ],
   "source": [
    "feature_describe(df, 'uniqsubs')"
   ]
  },
  {
   "cell_type": "code",
   "execution_count": 61,
   "metadata": {},
   "outputs": [
    {
     "data": {
      "text/plain": [
       "1     61966\n",
       "2     27556\n",
       "3      6579\n",
       "4      2556\n",
       "5       835\n",
       "6       315\n",
       "7       111\n",
       "8        40\n",
       "9        20\n",
       "10        9\n",
       "Name: uniqsubs, dtype: int64"
      ]
     },
     "execution_count": 61,
     "metadata": {},
     "output_type": "execute_result"
    }
   ],
   "source": [
    "df['uniqsubs'].value_counts(ascending=False).head(10)"
   ]
  },
  {
   "cell_type": "code",
   "execution_count": 62,
   "metadata": {},
   "outputs": [
    {
     "data": {
      "text/plain": [
       "45772    196\n",
       "38762     18\n",
       "32531     13\n",
       "77452     13\n",
       "85417     12\n",
       "68786     12\n",
       "10717     12\n",
       "95128     12\n",
       "13716     11\n",
       "58560     11\n",
       "82831     11\n",
       "78698     11\n",
       "40330     11\n",
       "35493     10\n",
       "86268     10\n",
       "Name: uniqsubs, dtype: int64"
      ]
     },
     "execution_count": 62,
     "metadata": {},
     "output_type": "execute_result"
    }
   ],
   "source": [
    "df['uniqsubs'].sort_values(ascending=False).head(15)"
   ]
  },
  {
   "cell_type": "code",
   "execution_count": 302,
   "metadata": {},
   "outputs": [
    {
     "data": {
      "text/plain": [
       "0"
      ]
     },
     "execution_count": 302,
     "metadata": {},
     "output_type": "execute_result"
    }
   ],
   "source": [
    "df['uniqsubs'].isnull().sum()"
   ]
  },
  {
   "cell_type": "code",
   "execution_count": 64,
   "metadata": {},
   "outputs": [
    {
     "data": {
      "text/plain": [
       "1    753\n",
       "0    590\n",
       "Name: churn, dtype: int64"
      ]
     },
     "execution_count": 64,
     "metadata": {},
     "output_type": "execute_result"
    }
   ],
   "source": [
    "df[df['uniqsubs'] >= 5]['churn'].value_counts()"
   ]
  },
  {
   "cell_type": "code",
   "execution_count": 66,
   "metadata": {},
   "outputs": [
    {
     "data": {
      "text/plain": [
       "0.5606850335070737"
      ]
     },
     "execution_count": 66,
     "metadata": {},
     "output_type": "execute_result"
    }
   ],
   "source": [
    "753 / (753 + 590)"
   ]
  },
  {
   "cell_type": "markdown",
   "metadata": {},
   "source": [
    "* 世帯内の契約数が多い顧客は解約率が高めな傾向がある。\n",
    "* 欠損値はない。"
   ]
  },
  {
   "cell_type": "markdown",
   "metadata": {},
   "source": [
    "### 特徴量エンジニアリング&モデリング"
   ]
  },
  {
   "cell_type": "code",
   "execution_count": 41,
   "metadata": {},
   "outputs": [],
   "source": [
    "df3 = df.copy()\n",
    "df3 = pd.get_dummies(df3, drop_first=True, columns = encoding_col, prefix = encoding_col)\n",
    "df3.drop(\"Customer_ID\", axis=1, inplace=True)"
   ]
  },
  {
   "cell_type": "code",
   "execution_count": 42,
   "metadata": {},
   "outputs": [],
   "source": [
    "df3['dif_rev_totmrc'] = df3['rev_Mean'] - df3['totmrc_Mean']\n",
    "\n",
    "df3['vce_blk_rate'] = 0\n",
    "df3.loc[ df3['plcd_vce_Mean'] > 0, 'vce_blk_rate'] = df3['blck_vce_Mean'] / df3['plcd_vce_Mean']\n",
    "\n",
    "df3['vce_drp_rate'] = 0\n",
    "df3.loc[ df3['plcd_vce_Mean'] > 0, 'vce_drp_rate'] = df3['drop_vce_Mean'] / df3['plcd_vce_Mean']\n",
    "\n",
    "df3['dat_blk_rate'] = 0\n",
    "df3.loc[ df3['plcd_dat_Mean'] > 0, 'dat_blk_rate'] = df3['blck_dat_Mean'] / df3['plcd_dat_Mean']\n",
    "\n",
    "df3['dat_drp_rate'] = 0\n",
    "df3.loc[ df3['plcd_dat_Mean'] > 0, 'dat_drp_rate'] = df3['drop_dat_Mean'] / df3['plcd_dat_Mean']\n",
    "\n",
    "df3['vce_cmpt_rate'] = 0\n",
    "df3.loc[ df3['plcd_vce_Mean'] > 0, 'vce_cmpt_rate'] = df3['comp_vce_Mean'] / df3['plcd_vce_Mean']\n",
    "\n",
    "df3['dat_cmpt_rate'] = 0\n",
    "df3.loc[ df3['plcd_dat_Mean'] > 0, 'dat_cmpt_rate'] = df3['comp_dat_Mean'] / df3['plcd_dat_Mean']\n",
    "\n",
    "df3['tot_cmpt_rate'] = 0\n",
    "df3.loc[ df3['attempt_Mean'] > 0, 'tot_cmpt_rate'] = df3['complete_Mean'] / df3['attempt_Mean']\n",
    "\n",
    "df3['tot_drp_blk_rate'] = 0\n",
    "df3.loc[ df3['attempt_Mean'] > 0, 'tot_drp_blk_rate'] = df3['drop_blk_Mean'] / df3['attempt_Mean']\n",
    "\n",
    "df3['vce_dat_ratio'] = 0\n",
    "df3.loc[ (df3['plcd_vce_Mean'] + df3['plcd_dat_Mean']) > 0, 'tot_drp_blk_rate'] = df3['plcd_vce_Mean'] /  (df3['plcd_vce_Mean'] + df3['plcd_dat_Mean'])\n",
    "\n",
    "df3['diff_3mon_overall_mou'] = 0\n",
    "df3.loc[ (df3['avgmou'] == df3['avgmou']) & (df3['avg3mou'] == df3['avg3mou']), 'diff_3mon_overall_mou'] = (df3['avg3mou'] - df3['avgmou']) / df3['avgmou']\n",
    "\n",
    "df3['diff_3mon_overall_qty'] = 0\n",
    "df3.loc[ (df3['avgqty'] == df3['avgqty']) & (df3['avg3qty'] == df3['avg3qty']), 'diff_3mon_overall_qty'] = (df3['avg3qty'] - df3['avgqty']) / df3['avgqty']\n",
    "\n",
    "df3['diff_3mon_overall_rev'] = 0\n",
    "df3.loc[ (df3['avgrev'] == df3['avgrev']) & (df3['avg3rev'] == df3['avg3rev']), 'diff_3mon_overall_rev'] = (df3['avg3rev'] - df3['avgrev']) / df3['avgrev']\n",
    "\n",
    "df3['diff_6mon_overall_mou'] = 0\n",
    "df3.loc[ (df3['avgmou'] == df3['avgmou']) & (df3['avg6mou'] == df3['avg6mou']), 'diff_6mon_overall_mou'] = (df3['avg6mou'] - df3['avgmou']) / df3['avgmou']\n",
    "\n",
    "df3['diff_6mon_overall_qty'] = 0\n",
    "df3.loc[ (df3['avgqty'] == df3['avgqty']) & (df3['avg6qty'] == df3['avg6qty']), 'diff_6mon_overall_qty'] = (df3['avg6qty'] - df3['avgqty']) / df3['avgqty']\n",
    "\n",
    "df3['diff_6mon_overall_rev'] = 0\n",
    "df3.loc[ (df3['avgrev'] == df3['avgrev']) & (df3['avg6rev'] == df3['avg6rev']), 'diff_6mon_overall_rev'] = (df3['avg6rev'] - df3['avgrev']) / df3['avgrev']\n",
    "\n",
    "df3['total_nulls'] = 0\n",
    "df3.loc[:, 'total_nulls'] = np.sum(pd.isnull(df3), axis=1)\n",
    "\n",
    "df3['eqpdays_digitized'] = np.digitize(df3['eqpdays'], bins=[-10, 30, 60, 90, 120, 150, 180, 210, 240, 270, 300, 330, 360, 390, 5000])"
   ]
  },
  {
   "cell_type": "code",
   "execution_count": 48,
   "metadata": {},
   "outputs": [],
   "source": [
    "# 欠損値を埋める\n",
    "df3['change_rev'].fillna(((df3['rev_Mean'] - df3['avg3rev'])/df3['avg3rev'])*100, inplace=True)\n",
    "df3['avg6rev'].fillna((100 * df3['avg3rev'])/(100 + df3['change_rev']), inplace=True)"
   ]
  },
  {
   "cell_type": "code",
   "execution_count": 49,
   "metadata": {},
   "outputs": [
    {
     "data": {
      "text/plain": [
       "Index([], dtype='object')"
      ]
     },
     "execution_count": 49,
     "metadata": {},
     "output_type": "execute_result"
    }
   ],
   "source": [
    "# カテゴリカル変数を抽出\n",
    "obj_col3 = df3.select_dtypes(include = 'object').columns\n",
    "obj_col3"
   ]
  },
  {
   "cell_type": "code",
   "execution_count": 50,
   "metadata": {},
   "outputs": [
    {
     "data": {
      "text/html": [
       "<div>\n",
       "<style scoped>\n",
       "    .dataframe tbody tr th:only-of-type {\n",
       "        vertical-align: middle;\n",
       "    }\n",
       "\n",
       "    .dataframe tbody tr th {\n",
       "        vertical-align: top;\n",
       "    }\n",
       "\n",
       "    .dataframe thead th {\n",
       "        text-align: right;\n",
       "    }\n",
       "</style>\n",
       "<table border=\"1\" class=\"dataframe\">\n",
       "  <thead>\n",
       "    <tr style=\"text-align: right;\">\n",
       "      <th></th>\n",
       "      <th>rev_Mean</th>\n",
       "      <th>mou_Mean</th>\n",
       "      <th>totmrc_Mean</th>\n",
       "      <th>da_Mean</th>\n",
       "      <th>ovrmou_Mean</th>\n",
       "      <th>ovrrev_Mean</th>\n",
       "      <th>vceovr_Mean</th>\n",
       "      <th>datovr_Mean</th>\n",
       "      <th>roam_Mean</th>\n",
       "      <th>change_mou</th>\n",
       "      <th>...</th>\n",
       "      <th>tot_drp_blk_rate</th>\n",
       "      <th>vce_dat_ratio</th>\n",
       "      <th>diff_3mon_overall_mou</th>\n",
       "      <th>diff_3mon_overall_qty</th>\n",
       "      <th>diff_3mon_overall_rev</th>\n",
       "      <th>diff_6mon_overall_mou</th>\n",
       "      <th>diff_6mon_overall_qty</th>\n",
       "      <th>diff_6mon_overall_rev</th>\n",
       "      <th>total_nulls</th>\n",
       "      <th>eqpdays_digitized</th>\n",
       "    </tr>\n",
       "  </thead>\n",
       "  <tbody>\n",
       "    <tr>\n",
       "      <th>0</th>\n",
       "      <td>23.9975</td>\n",
       "      <td>219.25</td>\n",
       "      <td>22.500</td>\n",
       "      <td>0.2475</td>\n",
       "      <td>0.00</td>\n",
       "      <td>0.0</td>\n",
       "      <td>0.0</td>\n",
       "      <td>0.0</td>\n",
       "      <td>0.0</td>\n",
       "      <td>-157.25</td>\n",
       "      <td>...</td>\n",
       "      <td>1.0</td>\n",
       "      <td>0</td>\n",
       "      <td>2.262564</td>\n",
       "      <td>2.548486</td>\n",
       "      <td>0.011463</td>\n",
       "      <td>2.862301</td>\n",
       "      <td>3.160294</td>\n",
       "      <td>0.281187</td>\n",
       "      <td>0</td>\n",
       "      <td>13</td>\n",
       "    </tr>\n",
       "    <tr>\n",
       "      <th>1</th>\n",
       "      <td>57.4925</td>\n",
       "      <td>482.75</td>\n",
       "      <td>37.425</td>\n",
       "      <td>0.2475</td>\n",
       "      <td>22.75</td>\n",
       "      <td>9.1</td>\n",
       "      <td>9.1</td>\n",
       "      <td>0.0</td>\n",
       "      <td>0.0</td>\n",
       "      <td>532.25</td>\n",
       "      <td>...</td>\n",
       "      <td>1.0</td>\n",
       "      <td>0</td>\n",
       "      <td>-0.363788</td>\n",
       "      <td>-0.405769</td>\n",
       "      <td>-0.223753</td>\n",
       "      <td>-0.005006</td>\n",
       "      <td>0.034262</td>\n",
       "      <td>-0.068504</td>\n",
       "      <td>1</td>\n",
       "      <td>9</td>\n",
       "    </tr>\n",
       "    <tr>\n",
       "      <th>2</th>\n",
       "      <td>16.9900</td>\n",
       "      <td>10.25</td>\n",
       "      <td>16.990</td>\n",
       "      <td>0.0000</td>\n",
       "      <td>0.00</td>\n",
       "      <td>0.0</td>\n",
       "      <td>0.0</td>\n",
       "      <td>0.0</td>\n",
       "      <td>0.0</td>\n",
       "      <td>-4.25</td>\n",
       "      <td>...</td>\n",
       "      <td>1.0</td>\n",
       "      <td>0</td>\n",
       "      <td>-0.972349</td>\n",
       "      <td>-0.950305</td>\n",
       "      <td>-0.507817</td>\n",
       "      <td>-0.974653</td>\n",
       "      <td>-0.957405</td>\n",
       "      <td>-0.507817</td>\n",
       "      <td>0</td>\n",
       "      <td>14</td>\n",
       "    </tr>\n",
       "    <tr>\n",
       "      <th>3</th>\n",
       "      <td>38.0000</td>\n",
       "      <td>7.50</td>\n",
       "      <td>38.000</td>\n",
       "      <td>0.0000</td>\n",
       "      <td>0.00</td>\n",
       "      <td>0.0</td>\n",
       "      <td>0.0</td>\n",
       "      <td>0.0</td>\n",
       "      <td>0.0</td>\n",
       "      <td>-1.50</td>\n",
       "      <td>...</td>\n",
       "      <td>1.0</td>\n",
       "      <td>0</td>\n",
       "      <td>-0.873478</td>\n",
       "      <td>-0.902629</td>\n",
       "      <td>-0.060569</td>\n",
       "      <td>-0.209236</td>\n",
       "      <td>-0.188575</td>\n",
       "      <td>-0.011125</td>\n",
       "      <td>0</td>\n",
       "      <td>14</td>\n",
       "    </tr>\n",
       "    <tr>\n",
       "      <th>4</th>\n",
       "      <td>55.2300</td>\n",
       "      <td>570.50</td>\n",
       "      <td>71.980</td>\n",
       "      <td>0.0000</td>\n",
       "      <td>0.00</td>\n",
       "      <td>0.0</td>\n",
       "      <td>0.0</td>\n",
       "      <td>0.0</td>\n",
       "      <td>0.0</td>\n",
       "      <td>38.50</td>\n",
       "      <td>...</td>\n",
       "      <td>1.0</td>\n",
       "      <td>0</td>\n",
       "      <td>1.237549</td>\n",
       "      <td>1.402516</td>\n",
       "      <td>0.421556</td>\n",
       "      <td>1.349828</td>\n",
       "      <td>1.465409</td>\n",
       "      <td>1.067718</td>\n",
       "      <td>0</td>\n",
       "      <td>14</td>\n",
       "    </tr>\n",
       "  </tbody>\n",
       "</table>\n",
       "<p>5 rows × 228 columns</p>\n",
       "</div>"
      ],
      "text/plain": [
       "   rev_Mean  mou_Mean  totmrc_Mean  da_Mean  ovrmou_Mean  ovrrev_Mean  \\\n",
       "0   23.9975    219.25       22.500   0.2475         0.00          0.0   \n",
       "1   57.4925    482.75       37.425   0.2475        22.75          9.1   \n",
       "2   16.9900     10.25       16.990   0.0000         0.00          0.0   \n",
       "3   38.0000      7.50       38.000   0.0000         0.00          0.0   \n",
       "4   55.2300    570.50       71.980   0.0000         0.00          0.0   \n",
       "\n",
       "   vceovr_Mean  datovr_Mean  roam_Mean  change_mou  ...  tot_drp_blk_rate  \\\n",
       "0          0.0          0.0        0.0     -157.25  ...               1.0   \n",
       "1          9.1          0.0        0.0      532.25  ...               1.0   \n",
       "2          0.0          0.0        0.0       -4.25  ...               1.0   \n",
       "3          0.0          0.0        0.0       -1.50  ...               1.0   \n",
       "4          0.0          0.0        0.0       38.50  ...               1.0   \n",
       "\n",
       "   vce_dat_ratio  diff_3mon_overall_mou  diff_3mon_overall_qty  \\\n",
       "0              0               2.262564               2.548486   \n",
       "1              0              -0.363788              -0.405769   \n",
       "2              0              -0.972349              -0.950305   \n",
       "3              0              -0.873478              -0.902629   \n",
       "4              0               1.237549               1.402516   \n",
       "\n",
       "   diff_3mon_overall_rev  diff_6mon_overall_mou  diff_6mon_overall_qty  \\\n",
       "0               0.011463               2.862301               3.160294   \n",
       "1              -0.223753              -0.005006               0.034262   \n",
       "2              -0.507817              -0.974653              -0.957405   \n",
       "3              -0.060569              -0.209236              -0.188575   \n",
       "4               0.421556               1.349828               1.465409   \n",
       "\n",
       "   diff_6mon_overall_rev  total_nulls  eqpdays_digitized  \n",
       "0               0.281187            0                 13  \n",
       "1              -0.068504            1                  9  \n",
       "2              -0.507817            0                 14  \n",
       "3              -0.011125            0                 14  \n",
       "4               1.067718            0                 14  \n",
       "\n",
       "[5 rows x 228 columns]"
      ]
     },
     "execution_count": 50,
     "metadata": {},
     "output_type": "execute_result"
    }
   ],
   "source": [
    "df3.head()"
   ]
  },
  {
   "cell_type": "markdown",
   "metadata": {},
   "source": [
    "#### LightGBM"
   ]
  },
  {
   "cell_type": "code",
   "execution_count": 78,
   "metadata": {},
   "outputs": [],
   "source": [
    "from sklearn.model_selection import train_test_split\n",
    "import lightgbm as lgb\n",
    "TARGET = \"churn\"\n",
    "X = df3.drop(TARGET,axis=1) \n",
    "y = df3[TARGET] # 目的変数\n",
    "# トレーニングデータ,テストデータの分割\n",
    "X_train, X_valid, y_train, y_valid = train_test_split(X, y,test_size=0.2, random_state=0)"
   ]
  },
  {
   "cell_type": "code",
   "execution_count": 111,
   "metadata": {},
   "outputs": [
    {
     "name": "stdout",
     "output_type": "stream",
     "text": [
      "[LightGBM] [Warning] Find whitespaces in feature_names, replace with underlines\n",
      "[LightGBM] [Info] Number of positive: 39665, number of negative: 40335\n",
      "[LightGBM] [Warning] Auto-choosing col-wise multi-threading, the overhead of testing was 0.178894 seconds.\n",
      "You can set `force_col_wise=true` to remove the overhead.\n",
      "[LightGBM] [Info] Total Bins 18779\n",
      "[LightGBM] [Info] Number of data points in the train set: 80000, number of used features: 226\n",
      "[LightGBM] [Warning] Find whitespaces in feature_names, replace with underlines\n",
      "[LightGBM] [Info] [binary:BoostFromScore]: pavg=0.495812 -> initscore=-0.016750\n",
      "[LightGBM] [Info] Start training from score -0.016750\n",
      "[1]\tvalid_0's auc: 0.647439\n",
      "Training until validation scores don't improve for 20 rounds\n",
      "[2]\tvalid_0's auc: 0.649877\n",
      "[3]\tvalid_0's auc: 0.651552\n",
      "[4]\tvalid_0's auc: 0.652132\n",
      "[5]\tvalid_0's auc: 0.654637\n",
      "[6]\tvalid_0's auc: 0.654561\n",
      "[7]\tvalid_0's auc: 0.656097\n",
      "[8]\tvalid_0's auc: 0.657346\n",
      "[9]\tvalid_0's auc: 0.657499\n",
      "[10]\tvalid_0's auc: 0.658196\n",
      "[11]\tvalid_0's auc: 0.658511\n",
      "[12]\tvalid_0's auc: 0.659534\n",
      "[13]\tvalid_0's auc: 0.65993\n",
      "[14]\tvalid_0's auc: 0.661115\n",
      "[15]\tvalid_0's auc: 0.661339\n",
      "[16]\tvalid_0's auc: 0.661483\n",
      "[17]\tvalid_0's auc: 0.662162\n",
      "[18]\tvalid_0's auc: 0.662325\n",
      "[19]\tvalid_0's auc: 0.662866\n",
      "[20]\tvalid_0's auc: 0.663418\n",
      "[21]\tvalid_0's auc: 0.663965\n",
      "[22]\tvalid_0's auc: 0.663935\n",
      "[23]\tvalid_0's auc: 0.664385\n",
      "[24]\tvalid_0's auc: 0.664819\n",
      "[25]\tvalid_0's auc: 0.665189\n",
      "[26]\tvalid_0's auc: 0.665393\n",
      "[27]\tvalid_0's auc: 0.66568\n",
      "[28]\tvalid_0's auc: 0.666018\n",
      "[29]\tvalid_0's auc: 0.666157\n",
      "[30]\tvalid_0's auc: 0.666317\n",
      "[31]\tvalid_0's auc: 0.666683\n",
      "[32]\tvalid_0's auc: 0.666801\n",
      "[33]\tvalid_0's auc: 0.667094\n",
      "[34]\tvalid_0's auc: 0.667368\n",
      "[35]\tvalid_0's auc: 0.667513\n",
      "[36]\tvalid_0's auc: 0.668013\n",
      "[37]\tvalid_0's auc: 0.668422\n",
      "[38]\tvalid_0's auc: 0.668817\n",
      "[39]\tvalid_0's auc: 0.669315\n",
      "[40]\tvalid_0's auc: 0.669776\n",
      "[41]\tvalid_0's auc: 0.670127\n",
      "[42]\tvalid_0's auc: 0.670539\n",
      "[43]\tvalid_0's auc: 0.67083\n",
      "[44]\tvalid_0's auc: 0.671081\n",
      "[45]\tvalid_0's auc: 0.671453\n",
      "[46]\tvalid_0's auc: 0.671987\n",
      "[47]\tvalid_0's auc: 0.672334\n",
      "[48]\tvalid_0's auc: 0.672639\n",
      "[49]\tvalid_0's auc: 0.673\n",
      "[50]\tvalid_0's auc: 0.6732\n",
      "[51]\tvalid_0's auc: 0.673491\n",
      "[52]\tvalid_0's auc: 0.67406\n",
      "[53]\tvalid_0's auc: 0.674431\n",
      "[54]\tvalid_0's auc: 0.674766\n",
      "[55]\tvalid_0's auc: 0.675039\n",
      "[56]\tvalid_0's auc: 0.675463\n",
      "[57]\tvalid_0's auc: 0.675828\n",
      "[58]\tvalid_0's auc: 0.676138\n",
      "[59]\tvalid_0's auc: 0.676457\n",
      "[60]\tvalid_0's auc: 0.676801\n",
      "[61]\tvalid_0's auc: 0.677247\n",
      "[62]\tvalid_0's auc: 0.677562\n",
      "[63]\tvalid_0's auc: 0.677682\n",
      "[64]\tvalid_0's auc: 0.678251\n",
      "[65]\tvalid_0's auc: 0.678479\n",
      "[66]\tvalid_0's auc: 0.67884\n",
      "[67]\tvalid_0's auc: 0.679023\n",
      "[68]\tvalid_0's auc: 0.679476\n",
      "[69]\tvalid_0's auc: 0.679774\n",
      "[70]\tvalid_0's auc: 0.680045\n",
      "[71]\tvalid_0's auc: 0.680344\n",
      "[72]\tvalid_0's auc: 0.680628\n",
      "[73]\tvalid_0's auc: 0.680997\n",
      "[74]\tvalid_0's auc: 0.681315\n",
      "[75]\tvalid_0's auc: 0.681605\n",
      "[76]\tvalid_0's auc: 0.681845\n",
      "[77]\tvalid_0's auc: 0.682145\n",
      "[78]\tvalid_0's auc: 0.682502\n",
      "[79]\tvalid_0's auc: 0.682717\n",
      "[80]\tvalid_0's auc: 0.682914\n",
      "[81]\tvalid_0's auc: 0.683218\n",
      "[82]\tvalid_0's auc: 0.683476\n",
      "[83]\tvalid_0's auc: 0.683709\n",
      "[84]\tvalid_0's auc: 0.683838\n",
      "[85]\tvalid_0's auc: 0.68409\n",
      "[86]\tvalid_0's auc: 0.684264\n",
      "[87]\tvalid_0's auc: 0.684427\n",
      "[88]\tvalid_0's auc: 0.684624\n",
      "[89]\tvalid_0's auc: 0.684834\n",
      "[90]\tvalid_0's auc: 0.685021\n",
      "[91]\tvalid_0's auc: 0.685131\n",
      "[92]\tvalid_0's auc: 0.685277\n",
      "[93]\tvalid_0's auc: 0.685503\n",
      "[94]\tvalid_0's auc: 0.685652\n",
      "[95]\tvalid_0's auc: 0.685856\n",
      "[96]\tvalid_0's auc: 0.686037\n",
      "[97]\tvalid_0's auc: 0.686261\n",
      "[98]\tvalid_0's auc: 0.686441\n",
      "[99]\tvalid_0's auc: 0.686558\n",
      "[100]\tvalid_0's auc: 0.686706\n",
      "[101]\tvalid_0's auc: 0.686874\n",
      "[102]\tvalid_0's auc: 0.686998\n",
      "[103]\tvalid_0's auc: 0.687109\n",
      "[104]\tvalid_0's auc: 0.687234\n",
      "[105]\tvalid_0's auc: 0.687379\n",
      "[106]\tvalid_0's auc: 0.687545\n",
      "[107]\tvalid_0's auc: 0.687629\n",
      "[108]\tvalid_0's auc: 0.687809\n",
      "[109]\tvalid_0's auc: 0.687995\n",
      "[110]\tvalid_0's auc: 0.688126\n",
      "[111]\tvalid_0's auc: 0.688228\n",
      "[112]\tvalid_0's auc: 0.688391\n",
      "[113]\tvalid_0's auc: 0.688501\n",
      "[114]\tvalid_0's auc: 0.688616\n",
      "[115]\tvalid_0's auc: 0.688748\n",
      "[116]\tvalid_0's auc: 0.688905\n",
      "[117]\tvalid_0's auc: 0.689044\n",
      "[118]\tvalid_0's auc: 0.68916\n",
      "[119]\tvalid_0's auc: 0.689225\n",
      "[120]\tvalid_0's auc: 0.689346\n",
      "[121]\tvalid_0's auc: 0.689502\n",
      "[122]\tvalid_0's auc: 0.689614\n",
      "[123]\tvalid_0's auc: 0.68971\n",
      "[124]\tvalid_0's auc: 0.689761\n",
      "[125]\tvalid_0's auc: 0.689853\n",
      "[126]\tvalid_0's auc: 0.689946\n",
      "[127]\tvalid_0's auc: 0.69006\n",
      "[128]\tvalid_0's auc: 0.690179\n",
      "[129]\tvalid_0's auc: 0.69023\n",
      "[130]\tvalid_0's auc: 0.690361\n",
      "[131]\tvalid_0's auc: 0.690479\n",
      "[132]\tvalid_0's auc: 0.690598\n",
      "[133]\tvalid_0's auc: 0.690644\n",
      "[134]\tvalid_0's auc: 0.690741\n",
      "[135]\tvalid_0's auc: 0.690817\n",
      "[136]\tvalid_0's auc: 0.69086\n",
      "[137]\tvalid_0's auc: 0.69096\n",
      "[138]\tvalid_0's auc: 0.691088\n",
      "[139]\tvalid_0's auc: 0.69117\n",
      "[140]\tvalid_0's auc: 0.691246\n",
      "[141]\tvalid_0's auc: 0.691363\n",
      "[142]\tvalid_0's auc: 0.691468\n",
      "[143]\tvalid_0's auc: 0.691482\n",
      "[144]\tvalid_0's auc: 0.691566\n",
      "[145]\tvalid_0's auc: 0.691687\n",
      "[146]\tvalid_0's auc: 0.691766\n",
      "[147]\tvalid_0's auc: 0.691834\n",
      "[148]\tvalid_0's auc: 0.691904\n",
      "[149]\tvalid_0's auc: 0.691988\n",
      "[150]\tvalid_0's auc: 0.692086\n",
      "[151]\tvalid_0's auc: 0.692091\n",
      "[152]\tvalid_0's auc: 0.692156\n",
      "[153]\tvalid_0's auc: 0.692197\n",
      "[154]\tvalid_0's auc: 0.692291\n",
      "[155]\tvalid_0's auc: 0.692307\n",
      "[156]\tvalid_0's auc: 0.692346\n",
      "[157]\tvalid_0's auc: 0.69246\n",
      "[158]\tvalid_0's auc: 0.692476\n",
      "[159]\tvalid_0's auc: 0.692526\n",
      "[160]\tvalid_0's auc: 0.692553\n",
      "[161]\tvalid_0's auc: 0.692634\n",
      "[162]\tvalid_0's auc: 0.692743\n",
      "[163]\tvalid_0's auc: 0.692864\n",
      "[164]\tvalid_0's auc: 0.692909\n",
      "[165]\tvalid_0's auc: 0.692991\n",
      "[166]\tvalid_0's auc: 0.693102\n",
      "[167]\tvalid_0's auc: 0.693152\n",
      "[168]\tvalid_0's auc: 0.693238\n",
      "[169]\tvalid_0's auc: 0.693268\n",
      "[170]\tvalid_0's auc: 0.693362\n",
      "[171]\tvalid_0's auc: 0.69338\n",
      "[172]\tvalid_0's auc: 0.693392\n",
      "[173]\tvalid_0's auc: 0.693475\n",
      "[174]\tvalid_0's auc: 0.693506\n",
      "[175]\tvalid_0's auc: 0.693569\n",
      "[176]\tvalid_0's auc: 0.693615\n",
      "[177]\tvalid_0's auc: 0.693688\n",
      "[178]\tvalid_0's auc: 0.693716\n",
      "[179]\tvalid_0's auc: 0.693729\n",
      "[180]\tvalid_0's auc: 0.693826\n",
      "[181]\tvalid_0's auc: 0.693928\n",
      "[182]\tvalid_0's auc: 0.69398\n",
      "[183]\tvalid_0's auc: 0.694116\n",
      "[184]\tvalid_0's auc: 0.694208\n",
      "[185]\tvalid_0's auc: 0.694295\n",
      "[186]\tvalid_0's auc: 0.694334\n",
      "[187]\tvalid_0's auc: 0.694366\n",
      "[188]\tvalid_0's auc: 0.694436\n",
      "[189]\tvalid_0's auc: 0.694457\n",
      "[190]\tvalid_0's auc: 0.694495\n",
      "[191]\tvalid_0's auc: 0.694484\n",
      "[192]\tvalid_0's auc: 0.694526\n",
      "[193]\tvalid_0's auc: 0.694597\n",
      "[194]\tvalid_0's auc: 0.6947\n",
      "[195]\tvalid_0's auc: 0.694718\n",
      "[196]\tvalid_0's auc: 0.694726\n",
      "[197]\tvalid_0's auc: 0.694761\n",
      "[198]\tvalid_0's auc: 0.694833\n",
      "[199]\tvalid_0's auc: 0.694894\n",
      "[200]\tvalid_0's auc: 0.694904\n",
      "Did not meet early stopping. Best iteration is:\n",
      "[200]\tvalid_0's auc: 0.694904\n"
     ]
    }
   ],
   "source": [
    "# 学習に使用するデータを設定\n",
    "lgb_train = lgb.Dataset(X_train, y_train)\n",
    "lgb_eval = lgb.Dataset(X_valid, y_valid, reference=lgb_train) \n",
    "\n",
    "# パラメータ\n",
    "params = {\n",
    "        'task': 'train',\n",
    "        'boosting_type': 'gbdt',\n",
    "        'objective': 'binary', # 目的 : 分類\n",
    "        'metric': {'auc'},\n",
    "        'num_leaves': 20,             \n",
    "        'max_depth':8,\n",
    "        'min_data_in_leaf': 0,        \n",
    "        'num_iteration': 200,            \n",
    "        'learning_rate':0.03,\n",
    "        'num_boost_round':100,\n",
    "        'early_stopping_rounds':20, \n",
    "}\n",
    "\n",
    "# モデルの学習\n",
    "model = lgb.train(params,\n",
    "                  train_set=lgb_train, # トレーニングデータの指定\n",
    "                  valid_sets=lgb_eval, # 検証データの指定\n",
    "                  )\n",
    "\n",
    "# テストデータの予測\n",
    "y_pred = model.predict(X_valid)"
   ]
  },
  {
   "cell_type": "code",
   "execution_count": 112,
   "metadata": {},
   "outputs": [
    {
     "name": "stdout",
     "output_type": "stream",
     "text": [
      "0.6949037223359026\n"
     ]
    }
   ],
   "source": [
    "from sklearn import metrics\n",
    "print(metrics.roc_auc_score(np.array(y_valid), y_pred))"
   ]
  },
  {
   "cell_type": "markdown",
   "metadata": {},
   "source": [
    "#### XGBoost"
   ]
  },
  {
   "cell_type": "code",
   "execution_count": 53,
   "metadata": {},
   "outputs": [
    {
     "name": "stdout",
     "output_type": "stream",
     "text": [
      "[20:07:16] WARNING: /opt/concourse/worker/volumes/live/7a2b9f41-3287-451b-6691-43e9a6c0910f/volume/xgboost-split_1619728204606/work/src/learner.cc:1061: Starting in XGBoost 1.3.0, the default evaluation metric used with the objective 'binary:logistic' was changed from 'error' to 'logloss'. Explicitly set eval_metric if you'd like to restore the old behavior.\n",
      "[0]\teval-logloss:0.68492\ttrain-logloss:0.68281\n",
      "[1]\teval-logloss:0.67805\ttrain-logloss:0.67386\n",
      "[2]\teval-logloss:0.67237\ttrain-logloss:0.66602\n",
      "[3]\teval-logloss:0.66746\ttrain-logloss:0.65912\n",
      "[4]\teval-logloss:0.66334\ttrain-logloss:0.65309\n",
      "[5]\teval-logloss:0.66011\ttrain-logloss:0.64777\n",
      "[6]\teval-logloss:0.65711\ttrain-logloss:0.64280\n",
      "[7]\teval-logloss:0.65466\ttrain-logloss:0.63836\n",
      "[8]\teval-logloss:0.65255\ttrain-logloss:0.63427\n",
      "[9]\teval-logloss:0.65055\ttrain-logloss:0.63044\n",
      "[10]\teval-logloss:0.64882\ttrain-logloss:0.62700\n",
      "[11]\teval-logloss:0.64734\ttrain-logloss:0.62334\n",
      "[12]\teval-logloss:0.64585\ttrain-logloss:0.62046\n",
      "[13]\teval-logloss:0.64538\ttrain-logloss:0.61918\n",
      "[14]\teval-logloss:0.64506\ttrain-logloss:0.61803\n",
      "[15]\teval-logloss:0.64371\ttrain-logloss:0.61505\n",
      "[16]\teval-logloss:0.64258\ttrain-logloss:0.61225\n",
      "[17]\teval-logloss:0.64193\ttrain-logloss:0.61019\n",
      "[18]\teval-logloss:0.64104\ttrain-logloss:0.60776\n",
      "[19]\teval-logloss:0.64030\ttrain-logloss:0.60542\n",
      "[20]\teval-logloss:0.63957\ttrain-logloss:0.60331\n",
      "[21]\teval-logloss:0.63946\ttrain-logloss:0.60297\n",
      "[22]\teval-logloss:0.63870\ttrain-logloss:0.60099\n",
      "[23]\teval-logloss:0.63821\ttrain-logloss:0.59908\n",
      "[24]\teval-logloss:0.63779\ttrain-logloss:0.59727\n",
      "[25]\teval-logloss:0.63759\ttrain-logloss:0.59643\n",
      "[26]\teval-logloss:0.63736\ttrain-logloss:0.59458\n",
      "[27]\teval-logloss:0.63682\ttrain-logloss:0.59260\n",
      "[28]\teval-logloss:0.63653\ttrain-logloss:0.59095\n",
      "[29]\teval-logloss:0.63628\ttrain-logloss:0.59013\n",
      "[30]\teval-logloss:0.63590\ttrain-logloss:0.58825\n",
      "[31]\teval-logloss:0.63557\ttrain-logloss:0.58682\n",
      "[32]\teval-logloss:0.63520\ttrain-logloss:0.58513\n",
      "[33]\teval-logloss:0.63518\ttrain-logloss:0.58483\n",
      "[34]\teval-logloss:0.63513\ttrain-logloss:0.58437\n",
      "[35]\teval-logloss:0.63502\ttrain-logloss:0.58381\n",
      "[36]\teval-logloss:0.63477\ttrain-logloss:0.58170\n",
      "[37]\teval-logloss:0.63447\ttrain-logloss:0.58030\n",
      "[38]\teval-logloss:0.63436\ttrain-logloss:0.57898\n",
      "[39]\teval-logloss:0.63394\ttrain-logloss:0.57741\n",
      "[40]\teval-logloss:0.63385\ttrain-logloss:0.57703\n",
      "[41]\teval-logloss:0.63365\ttrain-logloss:0.57582\n",
      "[42]\teval-logloss:0.63359\ttrain-logloss:0.57402\n",
      "[43]\teval-logloss:0.63355\ttrain-logloss:0.57294\n",
      "[44]\teval-logloss:0.63346\ttrain-logloss:0.57203\n",
      "[45]\teval-logloss:0.63335\ttrain-logloss:0.57036\n",
      "[46]\teval-logloss:0.63341\ttrain-logloss:0.56902\n",
      "[47]\teval-logloss:0.63339\ttrain-logloss:0.56895\n",
      "[48]\teval-logloss:0.63333\ttrain-logloss:0.56868\n",
      "[49]\teval-logloss:0.63326\ttrain-logloss:0.56830\n",
      "[50]\teval-logloss:0.63324\ttrain-logloss:0.56824\n",
      "[51]\teval-logloss:0.63303\ttrain-logloss:0.56677\n",
      "[52]\teval-logloss:0.63296\ttrain-logloss:0.56654\n",
      "[53]\teval-logloss:0.63272\ttrain-logloss:0.56486\n",
      "[54]\teval-logloss:0.63271\ttrain-logloss:0.56477\n",
      "[55]\teval-logloss:0.63269\ttrain-logloss:0.56459\n",
      "[56]\teval-logloss:0.63255\ttrain-logloss:0.56314\n",
      "[57]\teval-logloss:0.63245\ttrain-logloss:0.56222\n",
      "[58]\teval-logloss:0.63238\ttrain-logloss:0.56115\n",
      "[59]\teval-logloss:0.63236\ttrain-logloss:0.56104\n",
      "[60]\teval-logloss:0.63237\ttrain-logloss:0.56088\n",
      "[61]\teval-logloss:0.63225\ttrain-logloss:0.55946\n",
      "[62]\teval-logloss:0.63224\ttrain-logloss:0.55941\n",
      "[63]\teval-logloss:0.63223\ttrain-logloss:0.55839\n",
      "[64]\teval-logloss:0.63218\ttrain-logloss:0.55824\n",
      "[65]\teval-logloss:0.63221\ttrain-logloss:0.55756\n",
      "[66]\teval-logloss:0.63218\ttrain-logloss:0.55750\n",
      "[67]\teval-logloss:0.63215\ttrain-logloss:0.55743\n",
      "[68]\teval-logloss:0.63209\ttrain-logloss:0.55722\n",
      "[69]\teval-logloss:0.63209\ttrain-logloss:0.55636\n",
      "[70]\teval-logloss:0.63199\ttrain-logloss:0.55515\n",
      "[71]\teval-logloss:0.63198\ttrain-logloss:0.55509\n",
      "[72]\teval-logloss:0.63196\ttrain-logloss:0.55506\n",
      "[73]\teval-logloss:0.63180\ttrain-logloss:0.55380\n",
      "[74]\teval-logloss:0.63176\ttrain-logloss:0.55371\n",
      "[75]\teval-logloss:0.63175\ttrain-logloss:0.55225\n",
      "[76]\teval-logloss:0.63172\ttrain-logloss:0.55217\n",
      "[77]\teval-logloss:0.63169\ttrain-logloss:0.55210\n",
      "[78]\teval-logloss:0.63166\ttrain-logloss:0.55104\n",
      "[79]\teval-logloss:0.63158\ttrain-logloss:0.54998\n",
      "[80]\teval-logloss:0.63133\ttrain-logloss:0.54837\n",
      "[81]\teval-logloss:0.63133\ttrain-logloss:0.54753\n",
      "[82]\teval-logloss:0.63135\ttrain-logloss:0.54697\n",
      "[83]\teval-logloss:0.63132\ttrain-logloss:0.54577\n",
      "[84]\teval-logloss:0.63123\ttrain-logloss:0.54453\n",
      "[85]\teval-logloss:0.63109\ttrain-logloss:0.54356\n",
      "[86]\teval-logloss:0.63108\ttrain-logloss:0.54350\n",
      "[87]\teval-logloss:0.63105\ttrain-logloss:0.54341\n",
      "[88]\teval-logloss:0.63104\ttrain-logloss:0.54336\n",
      "[89]\teval-logloss:0.63101\ttrain-logloss:0.54297\n",
      "[90]\teval-logloss:0.63101\ttrain-logloss:0.54231\n",
      "[91]\teval-logloss:0.63100\ttrain-logloss:0.54228\n",
      "[92]\teval-logloss:0.63098\ttrain-logloss:0.54215\n",
      "[93]\teval-logloss:0.63097\ttrain-logloss:0.54214\n",
      "[94]\teval-logloss:0.63096\ttrain-logloss:0.54213\n",
      "[95]\teval-logloss:0.63099\ttrain-logloss:0.54080\n",
      "[96]\teval-logloss:0.63099\ttrain-logloss:0.54080\n",
      "[97]\teval-logloss:0.63096\ttrain-logloss:0.54069\n",
      "[98]\teval-logloss:0.63088\ttrain-logloss:0.53941\n",
      "[99]\teval-logloss:0.63087\ttrain-logloss:0.53936\n",
      "[100]\teval-logloss:0.63086\ttrain-logloss:0.53937\n",
      "[101]\teval-logloss:0.63068\ttrain-logloss:0.53800\n",
      "[102]\teval-logloss:0.63066\ttrain-logloss:0.53799\n",
      "[103]\teval-logloss:0.63065\ttrain-logloss:0.53799\n",
      "[104]\teval-logloss:0.63064\ttrain-logloss:0.53803\n",
      "[105]\teval-logloss:0.63062\ttrain-logloss:0.53796\n",
      "[106]\teval-logloss:0.63057\ttrain-logloss:0.53757\n",
      "[107]\teval-logloss:0.63059\ttrain-logloss:0.53715\n",
      "[108]\teval-logloss:0.63063\ttrain-logloss:0.53601\n",
      "[109]\teval-logloss:0.63063\ttrain-logloss:0.53602\n",
      "[110]\teval-logloss:0.63060\ttrain-logloss:0.53600\n",
      "[111]\teval-logloss:0.63061\ttrain-logloss:0.53511\n",
      "[112]\teval-logloss:0.63053\ttrain-logloss:0.53389\n",
      "[113]\teval-logloss:0.63051\ttrain-logloss:0.53386\n",
      "[114]\teval-logloss:0.63051\ttrain-logloss:0.53322\n",
      "[115]\teval-logloss:0.63052\ttrain-logloss:0.53257\n",
      "[116]\teval-logloss:0.63052\ttrain-logloss:0.53255\n",
      "[117]\teval-logloss:0.63036\ttrain-logloss:0.53190\n",
      "[118]\teval-logloss:0.63041\ttrain-logloss:0.53121\n",
      "[119]\teval-logloss:0.63040\ttrain-logloss:0.53121\n",
      "[120]\teval-logloss:0.63041\ttrain-logloss:0.53117\n",
      "[121]\teval-logloss:0.63039\ttrain-logloss:0.53116\n",
      "[122]\teval-logloss:0.63041\ttrain-logloss:0.53012\n",
      "[123]\teval-logloss:0.63040\ttrain-logloss:0.53010\n",
      "[124]\teval-logloss:0.63038\ttrain-logloss:0.53010\n",
      "[125]\teval-logloss:0.63050\ttrain-logloss:0.52901\n",
      "[126]\teval-logloss:0.63052\ttrain-logloss:0.52842\n",
      "[127]\teval-logloss:0.63061\ttrain-logloss:0.52789\n",
      "[128]\teval-logloss:0.63060\ttrain-logloss:0.52790\n",
      "[129]\teval-logloss:0.63062\ttrain-logloss:0.52738\n",
      "[130]\teval-logloss:0.63061\ttrain-logloss:0.52735\n",
      "[131]\teval-logloss:0.63056\ttrain-logloss:0.52650\n",
      "[132]\teval-logloss:0.63055\ttrain-logloss:0.52654\n",
      "[133]\teval-logloss:0.63052\ttrain-logloss:0.52548\n",
      "[134]\teval-logloss:0.63053\ttrain-logloss:0.52546\n",
      "[135]\teval-logloss:0.63055\ttrain-logloss:0.52457\n",
      "[136]\teval-logloss:0.63052\ttrain-logloss:0.52369\n",
      "[137]\teval-logloss:0.63052\ttrain-logloss:0.52309\n",
      "[138]\teval-logloss:0.63051\ttrain-logloss:0.52311\n",
      "[139]\teval-logloss:0.63047\ttrain-logloss:0.52216\n",
      "[140]\teval-logloss:0.63045\ttrain-logloss:0.52111\n",
      "[141]\teval-logloss:0.63042\ttrain-logloss:0.52103\n",
      "[142]\teval-logloss:0.63042\ttrain-logloss:0.52100\n",
      "[143]\teval-logloss:0.63041\ttrain-logloss:0.52089\n",
      "[144]\teval-logloss:0.63043\ttrain-logloss:0.52018\n",
      "[145]\teval-logloss:0.63044\ttrain-logloss:0.51907\n",
      "[146]\teval-logloss:0.63043\ttrain-logloss:0.51905\n",
      "[147]\teval-logloss:0.63042\ttrain-logloss:0.51906\n",
      "[148]\teval-logloss:0.63049\ttrain-logloss:0.51835\n",
      "[149]\teval-logloss:0.63047\ttrain-logloss:0.51774\n",
      "[150]\teval-logloss:0.63043\ttrain-logloss:0.51673\n",
      "[151]\teval-logloss:0.63046\ttrain-logloss:0.51632\n",
      "[152]\teval-logloss:0.63045\ttrain-logloss:0.51632\n",
      "[153]\teval-logloss:0.63044\ttrain-logloss:0.51635\n",
      "[154]\teval-logloss:0.63043\ttrain-logloss:0.51635\n",
      "[155]\teval-logloss:0.63043\ttrain-logloss:0.51630\n",
      "[156]\teval-logloss:0.63042\ttrain-logloss:0.51633\n",
      "[157]\teval-logloss:0.63039\ttrain-logloss:0.51509\n",
      "[158]\teval-logloss:0.63039\ttrain-logloss:0.51509\n",
      "[159]\teval-logloss:0.63034\ttrain-logloss:0.51452\n",
      "[160]\teval-logloss:0.63037\ttrain-logloss:0.51360\n",
      "[161]\teval-logloss:0.63036\ttrain-logloss:0.51363\n",
      "[162]\teval-logloss:0.63045\ttrain-logloss:0.51334\n",
      "[163]\teval-logloss:0.63044\ttrain-logloss:0.51318\n",
      "[164]\teval-logloss:0.63043\ttrain-logloss:0.51318\n",
      "[165]\teval-logloss:0.63042\ttrain-logloss:0.51318\n",
      "[166]\teval-logloss:0.63042\ttrain-logloss:0.51314\n",
      "[167]\teval-logloss:0.63040\ttrain-logloss:0.51238\n",
      "[168]\teval-logloss:0.63043\ttrain-logloss:0.51110\n",
      "[169]\teval-logloss:0.63041\ttrain-logloss:0.51109\n",
      "[170]\teval-logloss:0.63043\ttrain-logloss:0.50976\n",
      "[171]\teval-logloss:0.63033\ttrain-logloss:0.50902\n",
      "[172]\teval-logloss:0.63031\ttrain-logloss:0.50902\n",
      "[173]\teval-logloss:0.63037\ttrain-logloss:0.50844\n",
      "[174]\teval-logloss:0.63032\ttrain-logloss:0.50765\n",
      "[175]\teval-logloss:0.63040\ttrain-logloss:0.50662\n",
      "[176]\teval-logloss:0.63037\ttrain-logloss:0.50629\n",
      "[177]\teval-logloss:0.63035\ttrain-logloss:0.50555\n",
      "[178]\teval-logloss:0.63036\ttrain-logloss:0.50478\n",
      "[179]\teval-logloss:0.63035\ttrain-logloss:0.50480\n",
      "[180]\teval-logloss:0.63033\ttrain-logloss:0.50483\n",
      "[181]\teval-logloss:0.63032\ttrain-logloss:0.50484\n",
      "[182]\teval-logloss:0.63025\ttrain-logloss:0.50423\n",
      "[183]\teval-logloss:0.63028\ttrain-logloss:0.50396\n",
      "[184]\teval-logloss:0.63027\ttrain-logloss:0.50397\n",
      "[185]\teval-logloss:0.63027\ttrain-logloss:0.50395\n",
      "[186]\teval-logloss:0.63009\ttrain-logloss:0.50355\n",
      "[187]\teval-logloss:0.63011\ttrain-logloss:0.50320\n",
      "[188]\teval-logloss:0.63014\ttrain-logloss:0.50226\n",
      "[189]\teval-logloss:0.63014\ttrain-logloss:0.50229\n",
      "[190]\teval-logloss:0.63013\ttrain-logloss:0.50232\n",
      "[191]\teval-logloss:0.63016\ttrain-logloss:0.50175\n",
      "[192]\teval-logloss:0.63015\ttrain-logloss:0.50176\n",
      "[193]\teval-logloss:0.62998\ttrain-logloss:0.50099\n",
      "[194]\teval-logloss:0.63000\ttrain-logloss:0.50001\n",
      "[195]\teval-logloss:0.62974\ttrain-logloss:0.49887\n",
      "[196]\teval-logloss:0.62969\ttrain-logloss:0.49828\n",
      "[197]\teval-logloss:0.62971\ttrain-logloss:0.49818\n",
      "[198]\teval-logloss:0.62970\ttrain-logloss:0.49820\n",
      "[199]\teval-logloss:0.62971\ttrain-logloss:0.49789\n"
     ]
    },
    {
     "ename": "NameError",
     "evalue": "name 'plot_roc' is not defined",
     "output_type": "error",
     "traceback": [
      "\u001b[0;31m---------------------------------------------------------------------------\u001b[0m",
      "\u001b[0;31mNameError\u001b[0m                                 Traceback (most recent call last)",
      "\u001b[0;32m/var/folders/fx/5kk61xj16b7bhz9jw5dtl8hm0000gn/T/ipykernel_70981/3733549922.py\u001b[0m in \u001b[0;36m<module>\u001b[0;34m\u001b[0m\n\u001b[1;32m     25\u001b[0m \u001b[0;34m\u001b[0m\u001b[0m\n\u001b[1;32m     26\u001b[0m \u001b[0;31m# テストデータの予測\u001b[0m\u001b[0;34m\u001b[0m\u001b[0;34m\u001b[0m\u001b[0;34m\u001b[0m\u001b[0m\n\u001b[0;32m---> 27\u001b[0;31m \u001b[0mplot_roc\u001b[0m\u001b[0;34m(\u001b[0m\u001b[0my_valid\u001b[0m\u001b[0;34m,\u001b[0m \u001b[0mbst\u001b[0m\u001b[0;34m.\u001b[0m\u001b[0mpredict\u001b[0m\u001b[0;34m(\u001b[0m\u001b[0mdtest\u001b[0m\u001b[0;34m)\u001b[0m\u001b[0;34m,\u001b[0m \u001b[0;34m\"XGB\"\u001b[0m\u001b[0;34m)\u001b[0m\u001b[0;34m\u001b[0m\u001b[0;34m\u001b[0m\u001b[0m\n\u001b[0m",
      "\u001b[0;31mNameError\u001b[0m: name 'plot_roc' is not defined"
     ]
    }
   ],
   "source": [
    "import xgboost as xgb\n",
    "\n",
    "TARGET = \"churn\"\n",
    "X = df3.drop(TARGET,axis=1) \n",
    "y = df3[TARGET] # 目的変数\n",
    "# トレーニングデータ,テストデータの分割\n",
    "X_train, X_valid, y_train, y_valid = train_test_split(X, y,test_size=0.2, random_state=0)\n",
    "\n",
    "dtrain = xgb.DMatrix(X_train, label=y_train)\n",
    "dtest = xgb.DMatrix(X_valid, label=y_valid)\n",
    "\n",
    "param_2 = {'booster': 'dart',\n",
    "         'max_depth': 8, 'learning_rate': 0.1,\n",
    "         'objective': 'binary:logistic',\n",
    "         'sample_type': 'weighted',#select dropped trees based on weight\n",
    "         'normalize_type': 'tree',\n",
    "         'rate_drop': 0.1,\n",
    "         'skip_drop': 0.5}\n",
    "\n",
    "watchlist = [(dtest, 'eval'), (dtrain, 'train')]\n",
    "num_round = 200\n",
    "\n",
    "# モデルの学習\n",
    "bst = xgb.train(param_2, dtrain, num_round, watchlist)"
   ]
  },
  {
   "cell_type": "code",
   "execution_count": 105,
   "metadata": {},
   "outputs": [
    {
     "name": "stdout",
     "output_type": "stream",
     "text": [
      "0.6966867464969358\n"
     ]
    }
   ],
   "source": [
    "from sklearn import metrics\n",
    "y_pred2 = bst.predict(dtest)\n",
    "print(metrics.roc_auc_score(np.array(y_valid), y_pred2))"
   ]
  },
  {
   "cell_type": "markdown",
   "metadata": {},
   "source": [
    "#### アンサンブル学習"
   ]
  },
  {
   "cell_type": "code",
   "execution_count": 113,
   "metadata": {},
   "outputs": [],
   "source": [
    "y_ensamble = (y_pred + y_pred2) / 2"
   ]
  },
  {
   "cell_type": "code",
   "execution_count": 114,
   "metadata": {},
   "outputs": [
    {
     "name": "stdout",
     "output_type": "stream",
     "text": [
      "0.7000265958215508\n"
     ]
    }
   ],
   "source": [
    "print(metrics.roc_auc_score(np.array(y_valid), y_ensamble))"
   ]
  },
  {
   "cell_type": "markdown",
   "metadata": {},
   "source": [
    "### クロスバリデーション"
   ]
  },
  {
   "cell_type": "code",
   "execution_count": 37,
   "metadata": {},
   "outputs": [],
   "source": [
    "random_state = 42\n",
    "classifier = [RandomForestClassifier(random_state = random_state),\n",
    "             lgb.LGBMClassifier(random_state = random_state)]\n",
    "\n",
    "rf_param_grid = {\"max_features\": [1,3,10],\n",
    "                \"min_samples_split\":[2,3,10],\n",
    "                \"min_samples_leaf\":[1,3,10],\n",
    "                \"bootstrap\":[False],\n",
    "                \"n_estimators\":[100,300],\n",
    "                \"criterion\":[\"gini\"]}\n",
    "\n",
    "lgbm_params = {'n_estimators': [100, 500, 1000],\n",
    "                'subsample': [0.6, 0.8, 1.0],\n",
    "                'max_depth': [3, 4, 5],\n",
    "                'learning_rate': [0.1,0.01,0.02],\n",
    "                \"min_child_samples\": [5,10,20]}\n",
    "\n",
    "classifier_param = [rf_param_grid,                   \n",
    "                   lgbm_params]"
   ]
  },
  {
   "cell_type": "code",
   "execution_count": 38,
   "metadata": {},
   "outputs": [
    {
     "name": "stdout",
     "output_type": "stream",
     "text": [
      "Fitting 10 folds for each of 54 candidates, totalling 540 fits\n"
     ]
    },
    {
     "ename": "KeyboardInterrupt",
     "evalue": "",
     "output_type": "error",
     "traceback": [
      "\u001b[0;31m---------------------------------------------------------------------------\u001b[0m",
      "\u001b[0;31mKeyboardInterrupt\u001b[0m                         Traceback (most recent call last)",
      "\u001b[0;32m/var/folders/fx/5kk61xj16b7bhz9jw5dtl8hm0000gn/T/ipykernel_1791/2372566155.py\u001b[0m in \u001b[0;36m<module>\u001b[0;34m\u001b[0m\n\u001b[1;32m      3\u001b[0m \u001b[0;32mfor\u001b[0m \u001b[0mi\u001b[0m \u001b[0;32min\u001b[0m \u001b[0mrange\u001b[0m\u001b[0;34m(\u001b[0m\u001b[0mlen\u001b[0m\u001b[0;34m(\u001b[0m\u001b[0mclassifier\u001b[0m\u001b[0;34m)\u001b[0m\u001b[0;34m)\u001b[0m\u001b[0;34m:\u001b[0m\u001b[0;34m\u001b[0m\u001b[0;34m\u001b[0m\u001b[0m\n\u001b[1;32m      4\u001b[0m     \u001b[0mclf\u001b[0m \u001b[0;34m=\u001b[0m \u001b[0mGridSearchCV\u001b[0m\u001b[0;34m(\u001b[0m\u001b[0mclassifier\u001b[0m\u001b[0;34m[\u001b[0m\u001b[0mi\u001b[0m\u001b[0;34m]\u001b[0m\u001b[0;34m,\u001b[0m \u001b[0mparam_grid\u001b[0m\u001b[0;34m=\u001b[0m\u001b[0mclassifier_param\u001b[0m\u001b[0;34m[\u001b[0m\u001b[0mi\u001b[0m\u001b[0;34m]\u001b[0m\u001b[0;34m,\u001b[0m \u001b[0mcv\u001b[0m \u001b[0;34m=\u001b[0m \u001b[0mStratifiedKFold\u001b[0m\u001b[0;34m(\u001b[0m\u001b[0mn_splits\u001b[0m \u001b[0;34m=\u001b[0m \u001b[0;36m10\u001b[0m\u001b[0;34m)\u001b[0m\u001b[0;34m,\u001b[0m \u001b[0mscoring\u001b[0m \u001b[0;34m=\u001b[0m \u001b[0;34m\"accuracy\"\u001b[0m\u001b[0;34m,\u001b[0m \u001b[0mn_jobs\u001b[0m \u001b[0;34m=\u001b[0m \u001b[0;34m-\u001b[0m\u001b[0;36m1\u001b[0m\u001b[0;34m,\u001b[0m\u001b[0mverbose\u001b[0m \u001b[0;34m=\u001b[0m \u001b[0;36m1\u001b[0m\u001b[0;34m)\u001b[0m\u001b[0;34m\u001b[0m\u001b[0;34m\u001b[0m\u001b[0m\n\u001b[0;32m----> 5\u001b[0;31m     \u001b[0mclf\u001b[0m\u001b[0;34m.\u001b[0m\u001b[0mfit\u001b[0m\u001b[0;34m(\u001b[0m\u001b[0mX_train\u001b[0m\u001b[0;34m,\u001b[0m\u001b[0my_train\u001b[0m\u001b[0;34m)\u001b[0m\u001b[0;34m\u001b[0m\u001b[0;34m\u001b[0m\u001b[0m\n\u001b[0m\u001b[1;32m      6\u001b[0m     \u001b[0mcv_result\u001b[0m\u001b[0;34m.\u001b[0m\u001b[0mappend\u001b[0m\u001b[0;34m(\u001b[0m\u001b[0mclf\u001b[0m\u001b[0;34m.\u001b[0m\u001b[0mbest_score_\u001b[0m\u001b[0;34m)\u001b[0m\u001b[0;34m\u001b[0m\u001b[0;34m\u001b[0m\u001b[0m\n\u001b[1;32m      7\u001b[0m     \u001b[0mbest_estimators\u001b[0m\u001b[0;34m.\u001b[0m\u001b[0mappend\u001b[0m\u001b[0;34m(\u001b[0m\u001b[0mclf\u001b[0m\u001b[0;34m.\u001b[0m\u001b[0mbest_estimator_\u001b[0m\u001b[0;34m)\u001b[0m\u001b[0;34m\u001b[0m\u001b[0;34m\u001b[0m\u001b[0m\n",
      "\u001b[0;32m~/anaconda3/envs/datascience/lib/python3.8/site-packages/sklearn/utils/validation.py\u001b[0m in \u001b[0;36minner_f\u001b[0;34m(*args, **kwargs)\u001b[0m\n\u001b[1;32m     61\u001b[0m             \u001b[0mextra_args\u001b[0m \u001b[0;34m=\u001b[0m \u001b[0mlen\u001b[0m\u001b[0;34m(\u001b[0m\u001b[0margs\u001b[0m\u001b[0;34m)\u001b[0m \u001b[0;34m-\u001b[0m \u001b[0mlen\u001b[0m\u001b[0;34m(\u001b[0m\u001b[0mall_args\u001b[0m\u001b[0;34m)\u001b[0m\u001b[0;34m\u001b[0m\u001b[0;34m\u001b[0m\u001b[0m\n\u001b[1;32m     62\u001b[0m             \u001b[0;32mif\u001b[0m \u001b[0mextra_args\u001b[0m \u001b[0;34m<=\u001b[0m \u001b[0;36m0\u001b[0m\u001b[0;34m:\u001b[0m\u001b[0;34m\u001b[0m\u001b[0;34m\u001b[0m\u001b[0m\n\u001b[0;32m---> 63\u001b[0;31m                 \u001b[0;32mreturn\u001b[0m \u001b[0mf\u001b[0m\u001b[0;34m(\u001b[0m\u001b[0;34m*\u001b[0m\u001b[0margs\u001b[0m\u001b[0;34m,\u001b[0m \u001b[0;34m**\u001b[0m\u001b[0mkwargs\u001b[0m\u001b[0;34m)\u001b[0m\u001b[0;34m\u001b[0m\u001b[0;34m\u001b[0m\u001b[0m\n\u001b[0m\u001b[1;32m     64\u001b[0m \u001b[0;34m\u001b[0m\u001b[0m\n\u001b[1;32m     65\u001b[0m             \u001b[0;31m# extra_args > 0\u001b[0m\u001b[0;34m\u001b[0m\u001b[0;34m\u001b[0m\u001b[0;34m\u001b[0m\u001b[0m\n",
      "\u001b[0;32m~/anaconda3/envs/datascience/lib/python3.8/site-packages/sklearn/model_selection/_search.py\u001b[0m in \u001b[0;36mfit\u001b[0;34m(self, X, y, groups, **fit_params)\u001b[0m\n\u001b[1;32m    839\u001b[0m                 \u001b[0;32mreturn\u001b[0m \u001b[0mresults\u001b[0m\u001b[0;34m\u001b[0m\u001b[0;34m\u001b[0m\u001b[0m\n\u001b[1;32m    840\u001b[0m \u001b[0;34m\u001b[0m\u001b[0m\n\u001b[0;32m--> 841\u001b[0;31m             \u001b[0mself\u001b[0m\u001b[0;34m.\u001b[0m\u001b[0m_run_search\u001b[0m\u001b[0;34m(\u001b[0m\u001b[0mevaluate_candidates\u001b[0m\u001b[0;34m)\u001b[0m\u001b[0;34m\u001b[0m\u001b[0;34m\u001b[0m\u001b[0m\n\u001b[0m\u001b[1;32m    842\u001b[0m \u001b[0;34m\u001b[0m\u001b[0m\n\u001b[1;32m    843\u001b[0m             \u001b[0;31m# multimetric is determined here because in the case of a callable\u001b[0m\u001b[0;34m\u001b[0m\u001b[0;34m\u001b[0m\u001b[0;34m\u001b[0m\u001b[0m\n",
      "\u001b[0;32m~/anaconda3/envs/datascience/lib/python3.8/site-packages/sklearn/model_selection/_search.py\u001b[0m in \u001b[0;36m_run_search\u001b[0;34m(self, evaluate_candidates)\u001b[0m\n\u001b[1;32m   1294\u001b[0m     \u001b[0;32mdef\u001b[0m \u001b[0m_run_search\u001b[0m\u001b[0;34m(\u001b[0m\u001b[0mself\u001b[0m\u001b[0;34m,\u001b[0m \u001b[0mevaluate_candidates\u001b[0m\u001b[0;34m)\u001b[0m\u001b[0;34m:\u001b[0m\u001b[0;34m\u001b[0m\u001b[0;34m\u001b[0m\u001b[0m\n\u001b[1;32m   1295\u001b[0m         \u001b[0;34m\"\"\"Search all candidates in param_grid\"\"\"\u001b[0m\u001b[0;34m\u001b[0m\u001b[0;34m\u001b[0m\u001b[0m\n\u001b[0;32m-> 1296\u001b[0;31m         \u001b[0mevaluate_candidates\u001b[0m\u001b[0;34m(\u001b[0m\u001b[0mParameterGrid\u001b[0m\u001b[0;34m(\u001b[0m\u001b[0mself\u001b[0m\u001b[0;34m.\u001b[0m\u001b[0mparam_grid\u001b[0m\u001b[0;34m)\u001b[0m\u001b[0;34m)\u001b[0m\u001b[0;34m\u001b[0m\u001b[0;34m\u001b[0m\u001b[0m\n\u001b[0m\u001b[1;32m   1297\u001b[0m \u001b[0;34m\u001b[0m\u001b[0m\n\u001b[1;32m   1298\u001b[0m \u001b[0;34m\u001b[0m\u001b[0m\n",
      "\u001b[0;32m~/anaconda3/envs/datascience/lib/python3.8/site-packages/sklearn/model_selection/_search.py\u001b[0m in \u001b[0;36mevaluate_candidates\u001b[0;34m(candidate_params, cv, more_results)\u001b[0m\n\u001b[1;32m    793\u001b[0m                               n_splits, n_candidates, n_candidates * n_splits))\n\u001b[1;32m    794\u001b[0m \u001b[0;34m\u001b[0m\u001b[0m\n\u001b[0;32m--> 795\u001b[0;31m                 out = parallel(delayed(_fit_and_score)(clone(base_estimator),\n\u001b[0m\u001b[1;32m    796\u001b[0m                                                        \u001b[0mX\u001b[0m\u001b[0;34m,\u001b[0m \u001b[0my\u001b[0m\u001b[0;34m,\u001b[0m\u001b[0;34m\u001b[0m\u001b[0;34m\u001b[0m\u001b[0m\n\u001b[1;32m    797\u001b[0m                                                        \u001b[0mtrain\u001b[0m\u001b[0;34m=\u001b[0m\u001b[0mtrain\u001b[0m\u001b[0;34m,\u001b[0m \u001b[0mtest\u001b[0m\u001b[0;34m=\u001b[0m\u001b[0mtest\u001b[0m\u001b[0;34m,\u001b[0m\u001b[0;34m\u001b[0m\u001b[0;34m\u001b[0m\u001b[0m\n",
      "\u001b[0;32m~/anaconda3/envs/datascience/lib/python3.8/site-packages/joblib/parallel.py\u001b[0m in \u001b[0;36m__call__\u001b[0;34m(self, iterable)\u001b[0m\n\u001b[1;32m   1052\u001b[0m \u001b[0;34m\u001b[0m\u001b[0m\n\u001b[1;32m   1053\u001b[0m             \u001b[0;32mwith\u001b[0m \u001b[0mself\u001b[0m\u001b[0;34m.\u001b[0m\u001b[0m_backend\u001b[0m\u001b[0;34m.\u001b[0m\u001b[0mretrieval_context\u001b[0m\u001b[0;34m(\u001b[0m\u001b[0;34m)\u001b[0m\u001b[0;34m:\u001b[0m\u001b[0;34m\u001b[0m\u001b[0;34m\u001b[0m\u001b[0m\n\u001b[0;32m-> 1054\u001b[0;31m                 \u001b[0mself\u001b[0m\u001b[0;34m.\u001b[0m\u001b[0mretrieve\u001b[0m\u001b[0;34m(\u001b[0m\u001b[0;34m)\u001b[0m\u001b[0;34m\u001b[0m\u001b[0;34m\u001b[0m\u001b[0m\n\u001b[0m\u001b[1;32m   1055\u001b[0m             \u001b[0;31m# Make sure that we get a last message telling us we are done\u001b[0m\u001b[0;34m\u001b[0m\u001b[0;34m\u001b[0m\u001b[0;34m\u001b[0m\u001b[0m\n\u001b[1;32m   1056\u001b[0m             \u001b[0melapsed_time\u001b[0m \u001b[0;34m=\u001b[0m \u001b[0mtime\u001b[0m\u001b[0;34m.\u001b[0m\u001b[0mtime\u001b[0m\u001b[0;34m(\u001b[0m\u001b[0;34m)\u001b[0m \u001b[0;34m-\u001b[0m \u001b[0mself\u001b[0m\u001b[0;34m.\u001b[0m\u001b[0m_start_time\u001b[0m\u001b[0;34m\u001b[0m\u001b[0;34m\u001b[0m\u001b[0m\n",
      "\u001b[0;32m~/anaconda3/envs/datascience/lib/python3.8/site-packages/joblib/parallel.py\u001b[0m in \u001b[0;36mretrieve\u001b[0;34m(self)\u001b[0m\n\u001b[1;32m    931\u001b[0m             \u001b[0;32mtry\u001b[0m\u001b[0;34m:\u001b[0m\u001b[0;34m\u001b[0m\u001b[0;34m\u001b[0m\u001b[0m\n\u001b[1;32m    932\u001b[0m                 \u001b[0;32mif\u001b[0m \u001b[0mgetattr\u001b[0m\u001b[0;34m(\u001b[0m\u001b[0mself\u001b[0m\u001b[0;34m.\u001b[0m\u001b[0m_backend\u001b[0m\u001b[0;34m,\u001b[0m \u001b[0;34m'supports_timeout'\u001b[0m\u001b[0;34m,\u001b[0m \u001b[0;32mFalse\u001b[0m\u001b[0;34m)\u001b[0m\u001b[0;34m:\u001b[0m\u001b[0;34m\u001b[0m\u001b[0;34m\u001b[0m\u001b[0m\n\u001b[0;32m--> 933\u001b[0;31m                     \u001b[0mself\u001b[0m\u001b[0;34m.\u001b[0m\u001b[0m_output\u001b[0m\u001b[0;34m.\u001b[0m\u001b[0mextend\u001b[0m\u001b[0;34m(\u001b[0m\u001b[0mjob\u001b[0m\u001b[0;34m.\u001b[0m\u001b[0mget\u001b[0m\u001b[0;34m(\u001b[0m\u001b[0mtimeout\u001b[0m\u001b[0;34m=\u001b[0m\u001b[0mself\u001b[0m\u001b[0;34m.\u001b[0m\u001b[0mtimeout\u001b[0m\u001b[0;34m)\u001b[0m\u001b[0;34m)\u001b[0m\u001b[0;34m\u001b[0m\u001b[0;34m\u001b[0m\u001b[0m\n\u001b[0m\u001b[1;32m    934\u001b[0m                 \u001b[0;32melse\u001b[0m\u001b[0;34m:\u001b[0m\u001b[0;34m\u001b[0m\u001b[0;34m\u001b[0m\u001b[0m\n\u001b[1;32m    935\u001b[0m                     \u001b[0mself\u001b[0m\u001b[0;34m.\u001b[0m\u001b[0m_output\u001b[0m\u001b[0;34m.\u001b[0m\u001b[0mextend\u001b[0m\u001b[0;34m(\u001b[0m\u001b[0mjob\u001b[0m\u001b[0;34m.\u001b[0m\u001b[0mget\u001b[0m\u001b[0;34m(\u001b[0m\u001b[0;34m)\u001b[0m\u001b[0;34m)\u001b[0m\u001b[0;34m\u001b[0m\u001b[0;34m\u001b[0m\u001b[0m\n",
      "\u001b[0;32m~/anaconda3/envs/datascience/lib/python3.8/site-packages/joblib/_parallel_backends.py\u001b[0m in \u001b[0;36mwrap_future_result\u001b[0;34m(future, timeout)\u001b[0m\n\u001b[1;32m    540\u001b[0m         AsyncResults.get from multiprocessing.\"\"\"\n\u001b[1;32m    541\u001b[0m         \u001b[0;32mtry\u001b[0m\u001b[0;34m:\u001b[0m\u001b[0;34m\u001b[0m\u001b[0;34m\u001b[0m\u001b[0m\n\u001b[0;32m--> 542\u001b[0;31m             \u001b[0;32mreturn\u001b[0m \u001b[0mfuture\u001b[0m\u001b[0;34m.\u001b[0m\u001b[0mresult\u001b[0m\u001b[0;34m(\u001b[0m\u001b[0mtimeout\u001b[0m\u001b[0;34m=\u001b[0m\u001b[0mtimeout\u001b[0m\u001b[0;34m)\u001b[0m\u001b[0;34m\u001b[0m\u001b[0;34m\u001b[0m\u001b[0m\n\u001b[0m\u001b[1;32m    543\u001b[0m         \u001b[0;32mexcept\u001b[0m \u001b[0mCfTimeoutError\u001b[0m \u001b[0;32mas\u001b[0m \u001b[0me\u001b[0m\u001b[0;34m:\u001b[0m\u001b[0;34m\u001b[0m\u001b[0;34m\u001b[0m\u001b[0m\n\u001b[1;32m    544\u001b[0m             \u001b[0;32mraise\u001b[0m \u001b[0mTimeoutError\u001b[0m \u001b[0;32mfrom\u001b[0m \u001b[0me\u001b[0m\u001b[0;34m\u001b[0m\u001b[0;34m\u001b[0m\u001b[0m\n",
      "\u001b[0;32m~/anaconda3/envs/datascience/lib/python3.8/concurrent/futures/_base.py\u001b[0m in \u001b[0;36mresult\u001b[0;34m(self, timeout)\u001b[0m\n\u001b[1;32m    437\u001b[0m                     \u001b[0;32mreturn\u001b[0m \u001b[0mself\u001b[0m\u001b[0;34m.\u001b[0m\u001b[0m__get_result\u001b[0m\u001b[0;34m(\u001b[0m\u001b[0;34m)\u001b[0m\u001b[0;34m\u001b[0m\u001b[0;34m\u001b[0m\u001b[0m\n\u001b[1;32m    438\u001b[0m \u001b[0;34m\u001b[0m\u001b[0m\n\u001b[0;32m--> 439\u001b[0;31m                 \u001b[0mself\u001b[0m\u001b[0;34m.\u001b[0m\u001b[0m_condition\u001b[0m\u001b[0;34m.\u001b[0m\u001b[0mwait\u001b[0m\u001b[0;34m(\u001b[0m\u001b[0mtimeout\u001b[0m\u001b[0;34m)\u001b[0m\u001b[0;34m\u001b[0m\u001b[0;34m\u001b[0m\u001b[0m\n\u001b[0m\u001b[1;32m    440\u001b[0m \u001b[0;34m\u001b[0m\u001b[0m\n\u001b[1;32m    441\u001b[0m                 \u001b[0;32mif\u001b[0m \u001b[0mself\u001b[0m\u001b[0;34m.\u001b[0m\u001b[0m_state\u001b[0m \u001b[0;32min\u001b[0m \u001b[0;34m[\u001b[0m\u001b[0mCANCELLED\u001b[0m\u001b[0;34m,\u001b[0m \u001b[0mCANCELLED_AND_NOTIFIED\u001b[0m\u001b[0;34m]\u001b[0m\u001b[0;34m:\u001b[0m\u001b[0;34m\u001b[0m\u001b[0;34m\u001b[0m\u001b[0m\n",
      "\u001b[0;32m~/anaconda3/envs/datascience/lib/python3.8/threading.py\u001b[0m in \u001b[0;36mwait\u001b[0;34m(self, timeout)\u001b[0m\n\u001b[1;32m    300\u001b[0m         \u001b[0;32mtry\u001b[0m\u001b[0;34m:\u001b[0m    \u001b[0;31m# restore state no matter what (e.g., KeyboardInterrupt)\u001b[0m\u001b[0;34m\u001b[0m\u001b[0;34m\u001b[0m\u001b[0m\n\u001b[1;32m    301\u001b[0m             \u001b[0;32mif\u001b[0m \u001b[0mtimeout\u001b[0m \u001b[0;32mis\u001b[0m \u001b[0;32mNone\u001b[0m\u001b[0;34m:\u001b[0m\u001b[0;34m\u001b[0m\u001b[0;34m\u001b[0m\u001b[0m\n\u001b[0;32m--> 302\u001b[0;31m                 \u001b[0mwaiter\u001b[0m\u001b[0;34m.\u001b[0m\u001b[0macquire\u001b[0m\u001b[0;34m(\u001b[0m\u001b[0;34m)\u001b[0m\u001b[0;34m\u001b[0m\u001b[0;34m\u001b[0m\u001b[0m\n\u001b[0m\u001b[1;32m    303\u001b[0m                 \u001b[0mgotit\u001b[0m \u001b[0;34m=\u001b[0m \u001b[0;32mTrue\u001b[0m\u001b[0;34m\u001b[0m\u001b[0;34m\u001b[0m\u001b[0m\n\u001b[1;32m    304\u001b[0m             \u001b[0;32melse\u001b[0m\u001b[0;34m:\u001b[0m\u001b[0;34m\u001b[0m\u001b[0;34m\u001b[0m\u001b[0m\n",
      "\u001b[0;31mKeyboardInterrupt\u001b[0m: "
     ]
    }
   ],
   "source": [
    "cv_result = []\n",
    "best_estimators = []\n",
    "for i in range(len(Cclassifier)):\n",
    "    clf = GridSearchCV(classifier[i], param_grid=classifier_param[i], cv = StratifiedKFold(n_splits = 10), scoring = \"accuracy\", n_jobs = -1,verbose = 1)\n",
    "    clf.fit(X_train,y_train)\n",
    "    cv_result.append(clf.best_score_)\n",
    "    best_estimators.append(clf.best_estimator_)\n",
    "    print(cv_result[i])"
   ]
  },
  {
   "cell_type": "code",
   "execution_count": null,
   "metadata": {},
   "outputs": [],
   "source": [
    "cv_results = pd.DataFrame({\"Cross Validation Means\":cv_result, \"ML Models\":[ \"RandomForestClassifier\",\"LGBMClassifier\"]})\n",
    "\n",
    "g = sns.barplot(\"Cross Validation Means\", \"ML Models\", data = cv_results)\n",
    "g.set_xlabel(\"Mean Accuracy\")\n",
    "g.set_title(\"Cross Validation Scores\")"
   ]
  }
 ],
 "metadata": {
  "interpreter": {
   "hash": "280b9a717329236087477b2df6388f665ca0fbeac537a33287bd5fc76ae641d2"
  },
  "kernelspec": {
   "display_name": "Python 3.8.11 64-bit ('datascience': conda)",
   "language": "python",
   "name": "python3"
  },
  "language_info": {
   "codemirror_mode": {
    "name": "ipython",
    "version": 3
   },
   "file_extension": ".py",
   "mimetype": "text/x-python",
   "name": "python",
   "nbconvert_exporter": "python",
   "pygments_lexer": "ipython3",
   "version": "3.8.11"
  },
  "orig_nbformat": 4
 },
 "nbformat": 4,
 "nbformat_minor": 2
}
