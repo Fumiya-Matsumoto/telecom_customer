{
 "cells": [
  {
   "cell_type": "code",
   "execution_count": 1,
   "metadata": {},
   "outputs": [],
   "source": [
    "import numpy as np\n",
    "import pandas as pd\n",
    "from pandas import DataFrame, Series\n",
    "import matplotlib.pyplot as plt\n",
    "import seaborn as sns"
   ]
  },
  {
   "cell_type": "code",
   "execution_count": 2,
   "metadata": {},
   "outputs": [],
   "source": [
    "df = pd.read_csv('../data/input/Telecom_customer churn.csv')"
   ]
  },
  {
   "cell_type": "code",
   "execution_count": 3,
   "metadata": {},
   "outputs": [
    {
     "data": {
      "text/plain": [
       "Index(['new_cell', 'crclscod', 'asl_flag', 'prizm_social_one', 'area',\n",
       "       'dualband', 'refurb_new', 'hnd_webcap', 'ownrent', 'dwlltype',\n",
       "       'marital', 'infobase', 'HHstatin', 'dwllsize', 'ethnic', 'kid0_2',\n",
       "       'kid3_5', 'kid6_10', 'kid11_15', 'kid16_17', 'creditcd'],\n",
       "      dtype='object')"
      ]
     },
     "execution_count": 3,
     "metadata": {},
     "output_type": "execute_result"
    }
   ],
   "source": [
    "cols = df.columns[df.dtypes.values == 'object']\n",
    "cols"
   ]
  },
  {
   "cell_type": "code",
   "execution_count": null,
   "metadata": {},
   "outputs": [],
   "source": [
    "categ_nominal = ['new_cell', 'crclscod', 'asl_flag', 'prizm_social_one', 'area',\n",
    "       'dualband', 'refurb_new', 'hnd_webcap', 'ownrent', 'dwlltype',\n",
    "       'marital', 'infobase', 'HHstatin', 'dwllsize', 'ethnic', 'kid0_2',\n",
    "       'kid3_5', 'kid6_10', 'kid11_15', 'kid16_17', 'creditcd']"
   ]
  }
 ],
 "metadata": {
  "interpreter": {
   "hash": "280b9a717329236087477b2df6388f665ca0fbeac537a33287bd5fc76ae641d2"
  },
  "kernelspec": {
   "display_name": "Python 3.8.11 64-bit ('datascience': conda)",
   "language": "python",
   "name": "python3"
  },
  "language_info": {
   "codemirror_mode": {
    "name": "ipython",
    "version": 3
   },
   "file_extension": ".py",
   "mimetype": "text/x-python",
   "name": "python",
   "nbconvert_exporter": "python",
   "pygments_lexer": "ipython3",
   "version": "3.8.11"
  },
  "orig_nbformat": 4
 },
 "nbformat": 4,
 "nbformat_minor": 2
}
